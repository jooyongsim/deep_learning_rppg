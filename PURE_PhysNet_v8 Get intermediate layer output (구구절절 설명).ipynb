{
 "cells": [
  {
   "cell_type": "code",
   "execution_count": 1,
   "id": "4432eb07",
   "metadata": {},
   "outputs": [
    {
     "name": "stdout",
     "output_type": "stream",
     "text": [
      "/home/sim/Dataset/rPPG/PURE/01-01/01-01 /home/sim/Dataset/rPPG/PURE/01-01/01-01.json {'dataset': 'PURE', 'model': 'PhysNet', 'videodataDIR': '/home/sim/Dataset/rPPG/PURE/01-01/01-01', 'signalpath': '/home/sim/Dataset/rPPG/PURE/01-01/01-01.json', 'learning_rate': '1e-3', 'depth': '32', 'height': '128', 'width': '128', 'crop': 'True', 'overlap': '0.75', 'batch_size': '32'}\n",
      "overlap: 0.75\n",
      "batch_size: 32\n",
      "Using cuda device\n"
     ]
    }
   ],
   "source": [
    "import torch\n",
    "import torch.nn as nn\n",
    "\n",
    "from torch.utils.data import DataLoader\n",
    "from torch.utils.data import Dataset\n",
    "\n",
    "from src.dset import DatasetPhysNetED\n",
    "from src.archs import PhysNetED\n",
    "\n",
    "import numpy as np\n",
    "import configparser\n",
    "import os\n",
    "import json\n",
    "import cv2\n",
    "import matplotlib.pyplot as plt\n",
    "from skimage import data, io, filters\n",
    "from tqdm import tqdm\n",
    "\n",
    "def train_loop(trainloader, model, loss_fn, optimizer):\n",
    "    model.train()\n",
    "    size = len(trainloader.dataset)\n",
    "    train_preds = np.empty(0)\n",
    "    train_targets = np.empty(0)\n",
    "\n",
    "    for batch, (inputs, targets) in enumerate(trainloader):\n",
    "        inputs = inputs.to(device)\n",
    "        targets = targets.to(device).squeeze()\n",
    "        pred = model(inputs).squeeze()\n",
    "\n",
    "        for cnt, pr in enumerate(pred):\n",
    "            if (batch_size*batch+cnt)%(int(1/overlap)) == 0:\n",
    "                p = pr.cpu().detach().numpy().squeeze().flatten()\n",
    "                t = targets[cnt].cpu().detach().numpy().squeeze().flatten()\n",
    "                train_preds = np.concatenate((train_preds,p))\n",
    "                train_targets = np.concatenate((train_targets,t))\n",
    "                \n",
    "        loss = loss_fn(pred, targets)\n",
    "\n",
    "        # Backpropagation\n",
    "        optimizer.zero_grad()\n",
    "        loss.backward()\n",
    "        optimizer.step()\n",
    "\n",
    "        if batch % 1 == 0:\n",
    "            loss, current = loss.item(), batch * len(targets)\n",
    "            print(f\"loss: {loss:>7f}  [{current:>5d}/{size:>5d}]\")\n",
    "            \n",
    "    return train_preds, train_targets\n",
    "    \n",
    "def test_loop(testloader, model, loss_fn):\n",
    "    size = len(testloader.dataset)\n",
    "    model.eval()    \n",
    "    test_loss, correct = 0, 0\n",
    "    test_preds = np.empty(0)\n",
    "    test_targets = np.empty(0)\n",
    "\n",
    "    with torch.no_grad():\n",
    "        for inputs, targets in testloader:\n",
    "            inputs = inputs.to(device)\n",
    "            pred = model(inputs).squeeze()\n",
    "            \n",
    "            p = pred.cpu().detach().numpy().squeeze().flatten()\n",
    "            t = targets.cpu().detach().numpy().squeeze().flatten()\n",
    "            test_preds = np.concatenate((test_preds,p))\n",
    "            test_targets = np.concatenate((test_targets,t))\n",
    "        \n",
    "    return test_preds, test_targets\n",
    "\n",
    "# if __name__ == '__main__':\n",
    "\n",
    "configFilename = './config/PURE_PhysNet.cfg'\n",
    "\n",
    "parser = configparser.ConfigParser(inline_comment_prefixes=('#', ';'))\n",
    "parser.optionxform = str\n",
    "parser.read(configFilename)\n",
    "\n",
    "cfgdict = dict(parser['DEFAULT'].items())\n",
    "vdir, sigdir = cfgdict['videodataDIR'], cfgdict['signalpath']\n",
    "print(vdir, sigdir, cfgdict)\n",
    "\n",
    "# overlap = int(cfgdict['overlap'])\n",
    "# batch_size = int(cfgdict['batch_size'])\n",
    "overlap = 0.75\n",
    "batch_size = 32\n",
    "\n",
    "print(f'overlap: {overlap}')\n",
    "print(f'batch_size: {batch_size}')\n",
    "\n",
    "trainset = DatasetPhysNetED(cfgdict, start = 0, end = 1600, overlap = overlap)\n",
    "testset = DatasetPhysNetED(cfgdict, start = 1601, end = 2009, overlap = 0)\n",
    "\n",
    "# Construct DataLoaders\n",
    "trainloader = DataLoader(trainset,\n",
    "                        batch_size = batch_size)\n",
    "testloader = DataLoader(testset,\n",
    "                        batch_size = batch_size)\n",
    "\n",
    "# Get cpu or gpu device for training.\n",
    "device = \"cuda\" if torch.cuda.is_available() else \"cpu\"\n",
    "print(\"Using {} device\".format(device))\n",
    "\n",
    "# Load Model\n",
    "model = PhysNetED()\n",
    "if device != 'cpu':\n",
    "    model = model.cuda()\n",
    "loss_fn = nn.MSELoss()\n",
    "learning_rate = float(cfgdict['learning_rate'])\n",
    "optimizer =  torch.optim.AdamW(model.parameters(), lr=learning_rate)\n",
    "\n",
    "\n",
    "# from torch.utils.tensorboard import SummaryWriter\n",
    "# writer = SummaryWriter('logs/fashion_mnist_experiment_1')\n",
    "\n",
    "model_name = 'PhysNet_v8'\n",
    "\n",
    "if not os.path.exists('checkpoints'):\n",
    "    os.mkdir('checkpoints')\n",
    "if not os.path.exists('checkpoints/'+model_name):\n",
    "    os.mkdir('checkpoints/'+model_name)\n",
    "\n",
    "\n",
    "epochs = 100\n",
    "train_losses = []\n",
    "test_losses = []\n"
   ]
  },
  {
   "cell_type": "markdown",
   "id": "75f95af1",
   "metadata": {},
   "source": [
    "## 레이어 이름 불러오기 (예, ResNet 18)"
   ]
  },
  {
   "cell_type": "code",
   "execution_count": 2,
   "id": "b7627647",
   "metadata": {},
   "outputs": [
    {
     "name": "stdout",
     "output_type": "stream",
     "text": [
      "Children Counter:  0  Layer Name:  conv1\n",
      "Children Counter:  1  Layer Name:  bn1\n",
      "Children Counter:  2  Layer Name:  relu\n",
      "Children Counter:  3  Layer Name:  maxpool\n",
      "Children Counter:  4  Layer Name:  layer1\n",
      "Children Counter:  5  Layer Name:  layer2\n",
      "Children Counter:  6  Layer Name:  layer3\n",
      "Children Counter:  7  Layer Name:  layer4\n",
      "Children Counter:  8  Layer Name:  avgpool\n",
      "Children Counter:  9  Layer Name:  fc\n"
     ]
    }
   ],
   "source": [
    "from torchvision import models\n",
    "rn18 = models.resnet18(pretrained=True)\n",
    "\n",
    "children_counter = 0\n",
    "for n,c in rn18.named_children():\n",
    "    print(\"Children Counter: \",children_counter,\" Layer Name: \",n,)\n",
    "    children_counter+=1"
   ]
  },
  {
   "cell_type": "code",
   "execution_count": 3,
   "id": "4430fcd6",
   "metadata": {},
   "outputs": [
    {
     "data": {
      "text/plain": [
       "Linear(in_features=512, out_features=1000, bias=True)"
      ]
     },
     "execution_count": 3,
     "metadata": {},
     "output_type": "execute_result"
    }
   ],
   "source": [
    "c"
   ]
  },
  {
   "cell_type": "markdown",
   "id": "8edb30c8",
   "metadata": {},
   "source": [
    "## Layer 모듈을 Ordered Dictionary로 받아오기"
   ]
  },
  {
   "cell_type": "code",
   "execution_count": 4,
   "id": "8805a9b1",
   "metadata": {
    "scrolled": true
   },
   "outputs": [
    {
     "data": {
      "text/plain": [
       "OrderedDict([('conv1',\n",
       "              Conv2d(3, 64, kernel_size=(7, 7), stride=(2, 2), padding=(3, 3), bias=False)),\n",
       "             ('bn1',\n",
       "              BatchNorm2d(64, eps=1e-05, momentum=0.1, affine=True, track_running_stats=True)),\n",
       "             ('relu', ReLU(inplace=True)),\n",
       "             ('maxpool',\n",
       "              MaxPool2d(kernel_size=3, stride=2, padding=1, dilation=1, ceil_mode=False)),\n",
       "             ('layer1',\n",
       "              Sequential(\n",
       "                (0): BasicBlock(\n",
       "                  (conv1): Conv2d(64, 64, kernel_size=(3, 3), stride=(1, 1), padding=(1, 1), bias=False)\n",
       "                  (bn1): BatchNorm2d(64, eps=1e-05, momentum=0.1, affine=True, track_running_stats=True)\n",
       "                  (relu): ReLU(inplace=True)\n",
       "                  (conv2): Conv2d(64, 64, kernel_size=(3, 3), stride=(1, 1), padding=(1, 1), bias=False)\n",
       "                  (bn2): BatchNorm2d(64, eps=1e-05, momentum=0.1, affine=True, track_running_stats=True)\n",
       "                )\n",
       "                (1): BasicBlock(\n",
       "                  (conv1): Conv2d(64, 64, kernel_size=(3, 3), stride=(1, 1), padding=(1, 1), bias=False)\n",
       "                  (bn1): BatchNorm2d(64, eps=1e-05, momentum=0.1, affine=True, track_running_stats=True)\n",
       "                  (relu): ReLU(inplace=True)\n",
       "                  (conv2): Conv2d(64, 64, kernel_size=(3, 3), stride=(1, 1), padding=(1, 1), bias=False)\n",
       "                  (bn2): BatchNorm2d(64, eps=1e-05, momentum=0.1, affine=True, track_running_stats=True)\n",
       "                )\n",
       "              )),\n",
       "             ('layer2',\n",
       "              Sequential(\n",
       "                (0): BasicBlock(\n",
       "                  (conv1): Conv2d(64, 128, kernel_size=(3, 3), stride=(2, 2), padding=(1, 1), bias=False)\n",
       "                  (bn1): BatchNorm2d(128, eps=1e-05, momentum=0.1, affine=True, track_running_stats=True)\n",
       "                  (relu): ReLU(inplace=True)\n",
       "                  (conv2): Conv2d(128, 128, kernel_size=(3, 3), stride=(1, 1), padding=(1, 1), bias=False)\n",
       "                  (bn2): BatchNorm2d(128, eps=1e-05, momentum=0.1, affine=True, track_running_stats=True)\n",
       "                  (downsample): Sequential(\n",
       "                    (0): Conv2d(64, 128, kernel_size=(1, 1), stride=(2, 2), bias=False)\n",
       "                    (1): BatchNorm2d(128, eps=1e-05, momentum=0.1, affine=True, track_running_stats=True)\n",
       "                  )\n",
       "                )\n",
       "                (1): BasicBlock(\n",
       "                  (conv1): Conv2d(128, 128, kernel_size=(3, 3), stride=(1, 1), padding=(1, 1), bias=False)\n",
       "                  (bn1): BatchNorm2d(128, eps=1e-05, momentum=0.1, affine=True, track_running_stats=True)\n",
       "                  (relu): ReLU(inplace=True)\n",
       "                  (conv2): Conv2d(128, 128, kernel_size=(3, 3), stride=(1, 1), padding=(1, 1), bias=False)\n",
       "                  (bn2): BatchNorm2d(128, eps=1e-05, momentum=0.1, affine=True, track_running_stats=True)\n",
       "                )\n",
       "              )),\n",
       "             ('layer3',\n",
       "              Sequential(\n",
       "                (0): BasicBlock(\n",
       "                  (conv1): Conv2d(128, 256, kernel_size=(3, 3), stride=(2, 2), padding=(1, 1), bias=False)\n",
       "                  (bn1): BatchNorm2d(256, eps=1e-05, momentum=0.1, affine=True, track_running_stats=True)\n",
       "                  (relu): ReLU(inplace=True)\n",
       "                  (conv2): Conv2d(256, 256, kernel_size=(3, 3), stride=(1, 1), padding=(1, 1), bias=False)\n",
       "                  (bn2): BatchNorm2d(256, eps=1e-05, momentum=0.1, affine=True, track_running_stats=True)\n",
       "                  (downsample): Sequential(\n",
       "                    (0): Conv2d(128, 256, kernel_size=(1, 1), stride=(2, 2), bias=False)\n",
       "                    (1): BatchNorm2d(256, eps=1e-05, momentum=0.1, affine=True, track_running_stats=True)\n",
       "                  )\n",
       "                )\n",
       "                (1): BasicBlock(\n",
       "                  (conv1): Conv2d(256, 256, kernel_size=(3, 3), stride=(1, 1), padding=(1, 1), bias=False)\n",
       "                  (bn1): BatchNorm2d(256, eps=1e-05, momentum=0.1, affine=True, track_running_stats=True)\n",
       "                  (relu): ReLU(inplace=True)\n",
       "                  (conv2): Conv2d(256, 256, kernel_size=(3, 3), stride=(1, 1), padding=(1, 1), bias=False)\n",
       "                  (bn2): BatchNorm2d(256, eps=1e-05, momentum=0.1, affine=True, track_running_stats=True)\n",
       "                )\n",
       "              )),\n",
       "             ('layer4',\n",
       "              Sequential(\n",
       "                (0): BasicBlock(\n",
       "                  (conv1): Conv2d(256, 512, kernel_size=(3, 3), stride=(2, 2), padding=(1, 1), bias=False)\n",
       "                  (bn1): BatchNorm2d(512, eps=1e-05, momentum=0.1, affine=True, track_running_stats=True)\n",
       "                  (relu): ReLU(inplace=True)\n",
       "                  (conv2): Conv2d(512, 512, kernel_size=(3, 3), stride=(1, 1), padding=(1, 1), bias=False)\n",
       "                  (bn2): BatchNorm2d(512, eps=1e-05, momentum=0.1, affine=True, track_running_stats=True)\n",
       "                  (downsample): Sequential(\n",
       "                    (0): Conv2d(256, 512, kernel_size=(1, 1), stride=(2, 2), bias=False)\n",
       "                    (1): BatchNorm2d(512, eps=1e-05, momentum=0.1, affine=True, track_running_stats=True)\n",
       "                  )\n",
       "                )\n",
       "                (1): BasicBlock(\n",
       "                  (conv1): Conv2d(512, 512, kernel_size=(3, 3), stride=(1, 1), padding=(1, 1), bias=False)\n",
       "                  (bn1): BatchNorm2d(512, eps=1e-05, momentum=0.1, affine=True, track_running_stats=True)\n",
       "                  (relu): ReLU(inplace=True)\n",
       "                  (conv2): Conv2d(512, 512, kernel_size=(3, 3), stride=(1, 1), padding=(1, 1), bias=False)\n",
       "                  (bn2): BatchNorm2d(512, eps=1e-05, momentum=0.1, affine=True, track_running_stats=True)\n",
       "                )\n",
       "              )),\n",
       "             ('avgpool', AdaptiveAvgPool2d(output_size=(1, 1))),\n",
       "             ('fc', Linear(in_features=512, out_features=1000, bias=True))])"
      ]
     },
     "execution_count": 4,
     "metadata": {},
     "output_type": "execute_result"
    }
   ],
   "source": [
    "rn18._modules"
   ]
  },
  {
   "cell_type": "markdown",
   "id": "3dc9baf9",
   "metadata": {},
   "source": [
    "# PhysNet으로 중간 Layer Output 받오기 실습"
   ]
  },
  {
   "cell_type": "markdown",
   "id": "97c4a311",
   "metadata": {},
   "source": [
    "## 하위 모듈의 이름과 내용을 받아오는 방법"
   ]
  },
  {
   "cell_type": "markdown",
   "id": "0481b986",
   "metadata": {},
   "source": [
    "## 1. nn.module의 하위 모듈 (sub modules)을 iterator로 불러오기"
   ]
  },
  {
   "cell_type": "code",
   "execution_count": 113,
   "id": "f361a54f",
   "metadata": {
    "scrolled": true
   },
   "outputs": [
    {
     "name": "stdout",
     "output_type": "stream",
     "text": [
      "*** 0 : PhysNetED(\n",
      "  (start): Sequential(\n",
      "    (0): Conv3d(3, 32, kernel_size=(1, 5, 5), stride=(1, 1, 1), padding=(0, 2, 2))\n",
      "    (1): BatchNorm3d(32, eps=1e-05, momentum=0.1, affine=True, track_running_stats=True)\n",
      "    (2): ELU(alpha=1.0)\n",
      "  )\n",
      "  (loop1): Sequential(\n",
      "    (0): AvgPool3d(kernel_size=(1, 2, 2), stride=(1, 2, 2), padding=0)\n",
      "    (1): Conv3d(32, 64, kernel_size=(3, 3, 3), stride=(1, 1, 1), padding=(1, 1, 1))\n",
      "    (2): BatchNorm3d(64, eps=1e-05, momentum=0.1, affine=True, track_running_stats=True)\n",
      "    (3): ELU(alpha=1.0)\n",
      "    (4): Conv3d(64, 64, kernel_size=(3, 3, 3), stride=(1, 1, 1), padding=(1, 1, 1))\n",
      "    (5): BatchNorm3d(64, eps=1e-05, momentum=0.1, affine=True, track_running_stats=True)\n",
      "    (6): ELU(alpha=1.0)\n",
      "  )\n",
      "  (encoder): Sequential(\n",
      "    (0): AvgPool3d(kernel_size=(2, 2, 2), stride=(2, 2, 2), padding=0)\n",
      "    (1): Conv3d(64, 64, kernel_size=(3, 3, 3), stride=(1, 1, 1), padding=(1, 1, 1))\n",
      "    (2): BatchNorm3d(64, eps=1e-05, momentum=0.1, affine=True, track_running_stats=True)\n",
      "    (3): ELU(alpha=1.0)\n",
      "    (4): Conv3d(64, 64, kernel_size=(3, 3, 3), stride=(1, 1, 1), padding=(1, 1, 1))\n",
      "    (5): BatchNorm3d(64, eps=1e-05, momentum=0.1, affine=True, track_running_stats=True)\n",
      "    (6): ELU(alpha=1.0)\n",
      "    (7): AvgPool3d(kernel_size=(2, 2, 2), stride=(2, 2, 2), padding=0)\n",
      "    (8): Conv3d(64, 64, kernel_size=(3, 3, 3), stride=(1, 1, 1), padding=(1, 1, 1))\n",
      "    (9): BatchNorm3d(64, eps=1e-05, momentum=0.1, affine=True, track_running_stats=True)\n",
      "    (10): ELU(alpha=1.0)\n",
      "    (11): Conv3d(64, 64, kernel_size=(3, 3, 3), stride=(1, 1, 1), padding=(1, 1, 1))\n",
      "    (12): BatchNorm3d(64, eps=1e-05, momentum=0.1, affine=True, track_running_stats=True)\n",
      "    (13): ELU(alpha=1.0)\n",
      "  )\n",
      "  (loop4): Sequential(\n",
      "    (0): AvgPool3d(kernel_size=(1, 2, 2), stride=(1, 2, 2), padding=0)\n",
      "    (1): Conv3d(64, 64, kernel_size=(3, 3, 3), stride=(1, 1, 1), padding=(1, 1, 1))\n",
      "    (2): BatchNorm3d(64, eps=1e-05, momentum=0.1, affine=True, track_running_stats=True)\n",
      "    (3): ELU(alpha=1.0)\n",
      "    (4): Conv3d(64, 64, kernel_size=(3, 3, 3), stride=(1, 1, 1), padding=(1, 1, 1))\n",
      "    (5): BatchNorm3d(64, eps=1e-05, momentum=0.1, affine=True, track_running_stats=True)\n",
      "    (6): ELU(alpha=1.0)\n",
      "  )\n",
      "  (decoder): Sequential(\n",
      "    (0): ConvTranspose3d(64, 64, kernel_size=(4, 1, 1), stride=(2, 1, 1), padding=(1, 0, 0))\n",
      "    (1): BatchNorm3d(64, eps=1e-05, momentum=0.1, affine=True, track_running_stats=True)\n",
      "    (2): ELU(alpha=1.0)\n",
      "    (3): ConvTranspose3d(64, 64, kernel_size=(4, 1, 1), stride=(2, 1, 1), padding=(1, 0, 0))\n",
      "    (4): BatchNorm3d(64, eps=1e-05, momentum=0.1, affine=True, track_running_stats=True)\n",
      "    (5): ELU(alpha=1.0)\n",
      "  )\n",
      "  (end): Sequential(\n",
      "    (0): AdaptiveAvgPool3d(output_size=(None, 1, 1))\n",
      "    (1): Conv3d(64, 1, kernel_size=(1, 1, 1), stride=(1, 1, 1))\n",
      "  )\n",
      ")\n",
      "*** 1 : Sequential(\n",
      "  (0): Conv3d(3, 32, kernel_size=(1, 5, 5), stride=(1, 1, 1), padding=(0, 2, 2))\n",
      "  (1): BatchNorm3d(32, eps=1e-05, momentum=0.1, affine=True, track_running_stats=True)\n",
      "  (2): ELU(alpha=1.0)\n",
      ")\n",
      "*** 2 : Conv3d(3, 32, kernel_size=(1, 5, 5), stride=(1, 1, 1), padding=(0, 2, 2))\n",
      "*** 3 : BatchNorm3d(32, eps=1e-05, momentum=0.1, affine=True, track_running_stats=True)\n",
      "*** 4 : ELU(alpha=1.0)\n",
      "*** 5 : Sequential(\n",
      "  (0): AvgPool3d(kernel_size=(1, 2, 2), stride=(1, 2, 2), padding=0)\n",
      "  (1): Conv3d(32, 64, kernel_size=(3, 3, 3), stride=(1, 1, 1), padding=(1, 1, 1))\n",
      "  (2): BatchNorm3d(64, eps=1e-05, momentum=0.1, affine=True, track_running_stats=True)\n",
      "  (3): ELU(alpha=1.0)\n",
      "  (4): Conv3d(64, 64, kernel_size=(3, 3, 3), stride=(1, 1, 1), padding=(1, 1, 1))\n",
      "  (5): BatchNorm3d(64, eps=1e-05, momentum=0.1, affine=True, track_running_stats=True)\n",
      "  (6): ELU(alpha=1.0)\n",
      ")\n",
      "*** 6 : AvgPool3d(kernel_size=(1, 2, 2), stride=(1, 2, 2), padding=0)\n",
      "*** 7 : Conv3d(32, 64, kernel_size=(3, 3, 3), stride=(1, 1, 1), padding=(1, 1, 1))\n",
      "*** 8 : BatchNorm3d(64, eps=1e-05, momentum=0.1, affine=True, track_running_stats=True)\n",
      "*** 9 : ELU(alpha=1.0)\n",
      "*** 10 : Conv3d(64, 64, kernel_size=(3, 3, 3), stride=(1, 1, 1), padding=(1, 1, 1))\n",
      "*** 11 : BatchNorm3d(64, eps=1e-05, momentum=0.1, affine=True, track_running_stats=True)\n",
      "*** 12 : ELU(alpha=1.0)\n",
      "*** 13 : Sequential(\n",
      "  (0): AvgPool3d(kernel_size=(2, 2, 2), stride=(2, 2, 2), padding=0)\n",
      "  (1): Conv3d(64, 64, kernel_size=(3, 3, 3), stride=(1, 1, 1), padding=(1, 1, 1))\n",
      "  (2): BatchNorm3d(64, eps=1e-05, momentum=0.1, affine=True, track_running_stats=True)\n",
      "  (3): ELU(alpha=1.0)\n",
      "  (4): Conv3d(64, 64, kernel_size=(3, 3, 3), stride=(1, 1, 1), padding=(1, 1, 1))\n",
      "  (5): BatchNorm3d(64, eps=1e-05, momentum=0.1, affine=True, track_running_stats=True)\n",
      "  (6): ELU(alpha=1.0)\n",
      "  (7): AvgPool3d(kernel_size=(2, 2, 2), stride=(2, 2, 2), padding=0)\n",
      "  (8): Conv3d(64, 64, kernel_size=(3, 3, 3), stride=(1, 1, 1), padding=(1, 1, 1))\n",
      "  (9): BatchNorm3d(64, eps=1e-05, momentum=0.1, affine=True, track_running_stats=True)\n",
      "  (10): ELU(alpha=1.0)\n",
      "  (11): Conv3d(64, 64, kernel_size=(3, 3, 3), stride=(1, 1, 1), padding=(1, 1, 1))\n",
      "  (12): BatchNorm3d(64, eps=1e-05, momentum=0.1, affine=True, track_running_stats=True)\n",
      "  (13): ELU(alpha=1.0)\n",
      ")\n",
      "*** 14 : AvgPool3d(kernel_size=(2, 2, 2), stride=(2, 2, 2), padding=0)\n",
      "*** 15 : Conv3d(64, 64, kernel_size=(3, 3, 3), stride=(1, 1, 1), padding=(1, 1, 1))\n",
      "*** 16 : BatchNorm3d(64, eps=1e-05, momentum=0.1, affine=True, track_running_stats=True)\n",
      "*** 17 : ELU(alpha=1.0)\n",
      "*** 18 : Conv3d(64, 64, kernel_size=(3, 3, 3), stride=(1, 1, 1), padding=(1, 1, 1))\n",
      "*** 19 : BatchNorm3d(64, eps=1e-05, momentum=0.1, affine=True, track_running_stats=True)\n",
      "*** 20 : ELU(alpha=1.0)\n",
      "*** 21 : AvgPool3d(kernel_size=(2, 2, 2), stride=(2, 2, 2), padding=0)\n",
      "*** 22 : Conv3d(64, 64, kernel_size=(3, 3, 3), stride=(1, 1, 1), padding=(1, 1, 1))\n",
      "*** 23 : BatchNorm3d(64, eps=1e-05, momentum=0.1, affine=True, track_running_stats=True)\n",
      "*** 24 : ELU(alpha=1.0)\n",
      "*** 25 : Conv3d(64, 64, kernel_size=(3, 3, 3), stride=(1, 1, 1), padding=(1, 1, 1))\n",
      "*** 26 : BatchNorm3d(64, eps=1e-05, momentum=0.1, affine=True, track_running_stats=True)\n",
      "*** 27 : ELU(alpha=1.0)\n",
      "*** 28 : Sequential(\n",
      "  (0): AvgPool3d(kernel_size=(1, 2, 2), stride=(1, 2, 2), padding=0)\n",
      "  (1): Conv3d(64, 64, kernel_size=(3, 3, 3), stride=(1, 1, 1), padding=(1, 1, 1))\n",
      "  (2): BatchNorm3d(64, eps=1e-05, momentum=0.1, affine=True, track_running_stats=True)\n",
      "  (3): ELU(alpha=1.0)\n",
      "  (4): Conv3d(64, 64, kernel_size=(3, 3, 3), stride=(1, 1, 1), padding=(1, 1, 1))\n",
      "  (5): BatchNorm3d(64, eps=1e-05, momentum=0.1, affine=True, track_running_stats=True)\n",
      "  (6): ELU(alpha=1.0)\n",
      ")\n",
      "*** 29 : AvgPool3d(kernel_size=(1, 2, 2), stride=(1, 2, 2), padding=0)\n",
      "*** 30 : Conv3d(64, 64, kernel_size=(3, 3, 3), stride=(1, 1, 1), padding=(1, 1, 1))\n",
      "*** 31 : BatchNorm3d(64, eps=1e-05, momentum=0.1, affine=True, track_running_stats=True)\n",
      "*** 32 : ELU(alpha=1.0)\n",
      "*** 33 : Conv3d(64, 64, kernel_size=(3, 3, 3), stride=(1, 1, 1), padding=(1, 1, 1))\n",
      "*** 34 : BatchNorm3d(64, eps=1e-05, momentum=0.1, affine=True, track_running_stats=True)\n",
      "*** 35 : ELU(alpha=1.0)\n",
      "*** 36 : Sequential(\n",
      "  (0): ConvTranspose3d(64, 64, kernel_size=(4, 1, 1), stride=(2, 1, 1), padding=(1, 0, 0))\n",
      "  (1): BatchNorm3d(64, eps=1e-05, momentum=0.1, affine=True, track_running_stats=True)\n",
      "  (2): ELU(alpha=1.0)\n",
      "  (3): ConvTranspose3d(64, 64, kernel_size=(4, 1, 1), stride=(2, 1, 1), padding=(1, 0, 0))\n",
      "  (4): BatchNorm3d(64, eps=1e-05, momentum=0.1, affine=True, track_running_stats=True)\n",
      "  (5): ELU(alpha=1.0)\n",
      ")\n",
      "*** 37 : ConvTranspose3d(64, 64, kernel_size=(4, 1, 1), stride=(2, 1, 1), padding=(1, 0, 0))\n",
      "*** 38 : BatchNorm3d(64, eps=1e-05, momentum=0.1, affine=True, track_running_stats=True)\n",
      "*** 39 : ELU(alpha=1.0)\n",
      "*** 40 : ConvTranspose3d(64, 64, kernel_size=(4, 1, 1), stride=(2, 1, 1), padding=(1, 0, 0))\n",
      "*** 41 : BatchNorm3d(64, eps=1e-05, momentum=0.1, affine=True, track_running_stats=True)\n",
      "*** 42 : ELU(alpha=1.0)\n",
      "*** 43 : Sequential(\n",
      "  (0): AdaptiveAvgPool3d(output_size=(None, 1, 1))\n",
      "  (1): Conv3d(64, 1, kernel_size=(1, 1, 1), stride=(1, 1, 1))\n",
      ")\n",
      "*** 44 : AdaptiveAvgPool3d(output_size=(None, 1, 1))\n",
      "*** 45 : Conv3d(64, 1, kernel_size=(1, 1, 1), stride=(1, 1, 1))\n"
     ]
    }
   ],
   "source": [
    "model = PhysNetED()\n",
    "if device != 'cpu':\n",
    "    model = model.cuda()\n",
    "    \n",
    "for cnt, m in enumerate(model.modules()):\n",
    "    print(f'*** {cnt} : {m}')"
   ]
  },
  {
   "cell_type": "markdown",
   "id": "41a529f8",
   "metadata": {},
   "source": [
    "## 2. 하위 모듈의 이름과 내용을 iterator로 받아오기"
   ]
  },
  {
   "cell_type": "code",
   "execution_count": 96,
   "id": "d3544cac",
   "metadata": {},
   "outputs": [
    {
     "name": "stdout",
     "output_type": "stream",
     "text": [
      "*** 0 : ('', PhysNetED(\n",
      "  (start): Sequential(\n",
      "    (0): Conv3d(3, 32, kernel_size=(1, 5, 5), stride=(1, 1, 1), padding=(0, 2, 2))\n",
      "    (1): BatchNorm3d(32, eps=1e-05, momentum=0.1, affine=True, track_running_stats=True)\n",
      "    (2): ELU(alpha=1.0)\n",
      "  )\n",
      "  (loop1): Sequential(\n",
      "    (0): AvgPool3d(kernel_size=(1, 2, 2), stride=(1, 2, 2), padding=0)\n",
      "    (1): Conv3d(32, 64, kernel_size=(3, 3, 3), stride=(1, 1, 1), padding=(1, 1, 1))\n",
      "    (2): BatchNorm3d(64, eps=1e-05, momentum=0.1, affine=True, track_running_stats=True)\n",
      "    (3): ELU(alpha=1.0)\n",
      "    (4): Conv3d(64, 64, kernel_size=(3, 3, 3), stride=(1, 1, 1), padding=(1, 1, 1))\n",
      "    (5): BatchNorm3d(64, eps=1e-05, momentum=0.1, affine=True, track_running_stats=True)\n",
      "    (6): ELU(alpha=1.0)\n",
      "  )\n",
      "  (encoder): Sequential(\n",
      "    (0): AvgPool3d(kernel_size=(2, 2, 2), stride=(2, 2, 2), padding=0)\n",
      "    (1): Conv3d(64, 64, kernel_size=(3, 3, 3), stride=(1, 1, 1), padding=(1, 1, 1))\n",
      "    (2): BatchNorm3d(64, eps=1e-05, momentum=0.1, affine=True, track_running_stats=True)\n",
      "    (3): ELU(alpha=1.0)\n",
      "    (4): Conv3d(64, 64, kernel_size=(3, 3, 3), stride=(1, 1, 1), padding=(1, 1, 1))\n",
      "    (5): BatchNorm3d(64, eps=1e-05, momentum=0.1, affine=True, track_running_stats=True)\n",
      "    (6): ELU(alpha=1.0)\n",
      "    (7): AvgPool3d(kernel_size=(2, 2, 2), stride=(2, 2, 2), padding=0)\n",
      "    (8): Conv3d(64, 64, kernel_size=(3, 3, 3), stride=(1, 1, 1), padding=(1, 1, 1))\n",
      "    (9): BatchNorm3d(64, eps=1e-05, momentum=0.1, affine=True, track_running_stats=True)\n",
      "    (10): ELU(alpha=1.0)\n",
      "    (11): Conv3d(64, 64, kernel_size=(3, 3, 3), stride=(1, 1, 1), padding=(1, 1, 1))\n",
      "    (12): BatchNorm3d(64, eps=1e-05, momentum=0.1, affine=True, track_running_stats=True)\n",
      "    (13): ELU(alpha=1.0)\n",
      "  )\n",
      "  (loop4): Sequential(\n",
      "    (0): AvgPool3d(kernel_size=(1, 2, 2), stride=(1, 2, 2), padding=0)\n",
      "    (1): Conv3d(64, 64, kernel_size=(3, 3, 3), stride=(1, 1, 1), padding=(1, 1, 1))\n",
      "    (2): BatchNorm3d(64, eps=1e-05, momentum=0.1, affine=True, track_running_stats=True)\n",
      "    (3): ELU(alpha=1.0)\n",
      "    (4): Conv3d(64, 64, kernel_size=(3, 3, 3), stride=(1, 1, 1), padding=(1, 1, 1))\n",
      "    (5): BatchNorm3d(64, eps=1e-05, momentum=0.1, affine=True, track_running_stats=True)\n",
      "    (6): ELU(alpha=1.0)\n",
      "  )\n",
      "))\n",
      "*** 1 : ('start', Sequential(\n",
      "  (0): Conv3d(3, 32, kernel_size=(1, 5, 5), stride=(1, 1, 1), padding=(0, 2, 2))\n",
      "  (1): BatchNorm3d(32, eps=1e-05, momentum=0.1, affine=True, track_running_stats=True)\n",
      "  (2): ELU(alpha=1.0)\n",
      "))\n",
      "*** 2 : ('start.0', Conv3d(3, 32, kernel_size=(1, 5, 5), stride=(1, 1, 1), padding=(0, 2, 2)))\n",
      "*** 3 : ('start.1', BatchNorm3d(32, eps=1e-05, momentum=0.1, affine=True, track_running_stats=True))\n",
      "*** 4 : ('start.2', ELU(alpha=1.0))\n",
      "*** 5 : ('loop1', Sequential(\n",
      "  (0): AvgPool3d(kernel_size=(1, 2, 2), stride=(1, 2, 2), padding=0)\n",
      "  (1): Conv3d(32, 64, kernel_size=(3, 3, 3), stride=(1, 1, 1), padding=(1, 1, 1))\n",
      "  (2): BatchNorm3d(64, eps=1e-05, momentum=0.1, affine=True, track_running_stats=True)\n",
      "  (3): ELU(alpha=1.0)\n",
      "  (4): Conv3d(64, 64, kernel_size=(3, 3, 3), stride=(1, 1, 1), padding=(1, 1, 1))\n",
      "  (5): BatchNorm3d(64, eps=1e-05, momentum=0.1, affine=True, track_running_stats=True)\n",
      "  (6): ELU(alpha=1.0)\n",
      "))\n",
      "*** 6 : ('loop1.0', AvgPool3d(kernel_size=(1, 2, 2), stride=(1, 2, 2), padding=0))\n",
      "*** 7 : ('loop1.1', Conv3d(32, 64, kernel_size=(3, 3, 3), stride=(1, 1, 1), padding=(1, 1, 1)))\n",
      "*** 8 : ('loop1.2', BatchNorm3d(64, eps=1e-05, momentum=0.1, affine=True, track_running_stats=True))\n",
      "*** 9 : ('loop1.3', ELU(alpha=1.0))\n",
      "*** 10 : ('loop1.4', Conv3d(64, 64, kernel_size=(3, 3, 3), stride=(1, 1, 1), padding=(1, 1, 1)))\n",
      "*** 11 : ('loop1.5', BatchNorm3d(64, eps=1e-05, momentum=0.1, affine=True, track_running_stats=True))\n",
      "*** 12 : ('loop1.6', ELU(alpha=1.0))\n",
      "*** 13 : ('encoder', Sequential(\n",
      "  (0): AvgPool3d(kernel_size=(2, 2, 2), stride=(2, 2, 2), padding=0)\n",
      "  (1): Conv3d(64, 64, kernel_size=(3, 3, 3), stride=(1, 1, 1), padding=(1, 1, 1))\n",
      "  (2): BatchNorm3d(64, eps=1e-05, momentum=0.1, affine=True, track_running_stats=True)\n",
      "  (3): ELU(alpha=1.0)\n",
      "  (4): Conv3d(64, 64, kernel_size=(3, 3, 3), stride=(1, 1, 1), padding=(1, 1, 1))\n",
      "  (5): BatchNorm3d(64, eps=1e-05, momentum=0.1, affine=True, track_running_stats=True)\n",
      "  (6): ELU(alpha=1.0)\n",
      "  (7): AvgPool3d(kernel_size=(2, 2, 2), stride=(2, 2, 2), padding=0)\n",
      "  (8): Conv3d(64, 64, kernel_size=(3, 3, 3), stride=(1, 1, 1), padding=(1, 1, 1))\n",
      "  (9): BatchNorm3d(64, eps=1e-05, momentum=0.1, affine=True, track_running_stats=True)\n",
      "  (10): ELU(alpha=1.0)\n",
      "  (11): Conv3d(64, 64, kernel_size=(3, 3, 3), stride=(1, 1, 1), padding=(1, 1, 1))\n",
      "  (12): BatchNorm3d(64, eps=1e-05, momentum=0.1, affine=True, track_running_stats=True)\n",
      "  (13): ELU(alpha=1.0)\n",
      "))\n",
      "*** 14 : ('encoder.0', AvgPool3d(kernel_size=(2, 2, 2), stride=(2, 2, 2), padding=0))\n",
      "*** 15 : ('encoder.1', Conv3d(64, 64, kernel_size=(3, 3, 3), stride=(1, 1, 1), padding=(1, 1, 1)))\n",
      "*** 16 : ('encoder.2', BatchNorm3d(64, eps=1e-05, momentum=0.1, affine=True, track_running_stats=True))\n",
      "*** 17 : ('encoder.3', ELU(alpha=1.0))\n",
      "*** 18 : ('encoder.4', Conv3d(64, 64, kernel_size=(3, 3, 3), stride=(1, 1, 1), padding=(1, 1, 1)))\n",
      "*** 19 : ('encoder.5', BatchNorm3d(64, eps=1e-05, momentum=0.1, affine=True, track_running_stats=True))\n",
      "*** 20 : ('encoder.6', ELU(alpha=1.0))\n",
      "*** 21 : ('encoder.7', AvgPool3d(kernel_size=(2, 2, 2), stride=(2, 2, 2), padding=0))\n",
      "*** 22 : ('encoder.8', Conv3d(64, 64, kernel_size=(3, 3, 3), stride=(1, 1, 1), padding=(1, 1, 1)))\n",
      "*** 23 : ('encoder.9', BatchNorm3d(64, eps=1e-05, momentum=0.1, affine=True, track_running_stats=True))\n",
      "*** 24 : ('encoder.10', ELU(alpha=1.0))\n",
      "*** 25 : ('encoder.11', Conv3d(64, 64, kernel_size=(3, 3, 3), stride=(1, 1, 1), padding=(1, 1, 1)))\n",
      "*** 26 : ('encoder.12', BatchNorm3d(64, eps=1e-05, momentum=0.1, affine=True, track_running_stats=True))\n",
      "*** 27 : ('encoder.13', ELU(alpha=1.0))\n",
      "*** 28 : ('loop4', Sequential(\n",
      "  (0): AvgPool3d(kernel_size=(1, 2, 2), stride=(1, 2, 2), padding=0)\n",
      "  (1): Conv3d(64, 64, kernel_size=(3, 3, 3), stride=(1, 1, 1), padding=(1, 1, 1))\n",
      "  (2): BatchNorm3d(64, eps=1e-05, momentum=0.1, affine=True, track_running_stats=True)\n",
      "  (3): ELU(alpha=1.0)\n",
      "  (4): Conv3d(64, 64, kernel_size=(3, 3, 3), stride=(1, 1, 1), padding=(1, 1, 1))\n",
      "  (5): BatchNorm3d(64, eps=1e-05, momentum=0.1, affine=True, track_running_stats=True)\n",
      "  (6): ELU(alpha=1.0)\n",
      "))\n",
      "*** 29 : ('loop4.0', AvgPool3d(kernel_size=(1, 2, 2), stride=(1, 2, 2), padding=0))\n",
      "*** 30 : ('loop4.1', Conv3d(64, 64, kernel_size=(3, 3, 3), stride=(1, 1, 1), padding=(1, 1, 1)))\n",
      "*** 31 : ('loop4.2', BatchNorm3d(64, eps=1e-05, momentum=0.1, affine=True, track_running_stats=True))\n",
      "*** 32 : ('loop4.3', ELU(alpha=1.0))\n",
      "*** 33 : ('loop4.4', Conv3d(64, 64, kernel_size=(3, 3, 3), stride=(1, 1, 1), padding=(1, 1, 1)))\n",
      "*** 34 : ('loop4.5', BatchNorm3d(64, eps=1e-05, momentum=0.1, affine=True, track_running_stats=True))\n",
      "*** 35 : ('loop4.6', ELU(alpha=1.0))\n"
     ]
    }
   ],
   "source": [
    "for cnt, m in enumerate(model.named_modules()):\n",
    "    print(f'*** {cnt} : {m}')"
   ]
  },
  {
   "cell_type": "markdown",
   "id": "e5545fc9",
   "metadata": {},
   "source": [
    "## 3. 하위 모듈의 내용과 이름을 불러오는 다른 방법"
   ]
  },
  {
   "cell_type": "code",
   "execution_count": 104,
   "id": "c10eb3fb",
   "metadata": {
    "scrolled": true
   },
   "outputs": [
    {
     "name": "stdout",
     "output_type": "stream",
     "text": [
      "Children Counter:  0  Layer Name:  start  *** Content:  Sequential(\n",
      "  (0): Conv3d(3, 32, kernel_size=(1, 5, 5), stride=(1, 1, 1), padding=(0, 2, 2))\n",
      "  (1): BatchNorm3d(32, eps=1e-05, momentum=0.1, affine=True, track_running_stats=True)\n",
      "  (2): ELU(alpha=1.0)\n",
      ")\n",
      "Children Counter:  1  Layer Name:  loop1  *** Content:  Sequential(\n",
      "  (0): AvgPool3d(kernel_size=(1, 2, 2), stride=(1, 2, 2), padding=0)\n",
      "  (1): Conv3d(32, 64, kernel_size=(3, 3, 3), stride=(1, 1, 1), padding=(1, 1, 1))\n",
      "  (2): BatchNorm3d(64, eps=1e-05, momentum=0.1, affine=True, track_running_stats=True)\n",
      "  (3): ELU(alpha=1.0)\n",
      "  (4): Conv3d(64, 64, kernel_size=(3, 3, 3), stride=(1, 1, 1), padding=(1, 1, 1))\n",
      "  (5): BatchNorm3d(64, eps=1e-05, momentum=0.1, affine=True, track_running_stats=True)\n",
      "  (6): ELU(alpha=1.0)\n",
      ")\n",
      "Children Counter:  2  Layer Name:  encoder  *** Content:  Sequential(\n",
      "  (0): AvgPool3d(kernel_size=(2, 2, 2), stride=(2, 2, 2), padding=0)\n",
      "  (1): Conv3d(64, 64, kernel_size=(3, 3, 3), stride=(1, 1, 1), padding=(1, 1, 1))\n",
      "  (2): BatchNorm3d(64, eps=1e-05, momentum=0.1, affine=True, track_running_stats=True)\n",
      "  (3): ELU(alpha=1.0)\n",
      "  (4): Conv3d(64, 64, kernel_size=(3, 3, 3), stride=(1, 1, 1), padding=(1, 1, 1))\n",
      "  (5): BatchNorm3d(64, eps=1e-05, momentum=0.1, affine=True, track_running_stats=True)\n",
      "  (6): ELU(alpha=1.0)\n",
      "  (7): AvgPool3d(kernel_size=(2, 2, 2), stride=(2, 2, 2), padding=0)\n",
      "  (8): Conv3d(64, 64, kernel_size=(3, 3, 3), stride=(1, 1, 1), padding=(1, 1, 1))\n",
      "  (9): BatchNorm3d(64, eps=1e-05, momentum=0.1, affine=True, track_running_stats=True)\n",
      "  (10): ELU(alpha=1.0)\n",
      "  (11): Conv3d(64, 64, kernel_size=(3, 3, 3), stride=(1, 1, 1), padding=(1, 1, 1))\n",
      "  (12): BatchNorm3d(64, eps=1e-05, momentum=0.1, affine=True, track_running_stats=True)\n",
      "  (13): ELU(alpha=1.0)\n",
      ")\n",
      "Children Counter:  3  Layer Name:  loop4  *** Content:  Sequential(\n",
      "  (0): AvgPool3d(kernel_size=(1, 2, 2), stride=(1, 2, 2), padding=0)\n",
      "  (1): Conv3d(64, 64, kernel_size=(3, 3, 3), stride=(1, 1, 1), padding=(1, 1, 1))\n",
      "  (2): BatchNorm3d(64, eps=1e-05, momentum=0.1, affine=True, track_running_stats=True)\n",
      "  (3): ELU(alpha=1.0)\n",
      "  (4): Conv3d(64, 64, kernel_size=(3, 3, 3), stride=(1, 1, 1), padding=(1, 1, 1))\n",
      "  (5): BatchNorm3d(64, eps=1e-05, momentum=0.1, affine=True, track_running_stats=True)\n",
      "  (6): ELU(alpha=1.0)\n",
      ")\n"
     ]
    }
   ],
   "source": [
    "for cnt, (name, content) in enumerate(model.named_children()):\n",
    "    print(\"Children Counter: \", cnt,\" Layer Name: \",name, ' *** Content: ', content)"
   ]
  },
  {
   "cell_type": "markdown",
   "id": "091b5a79",
   "metadata": {},
   "source": [
    "## 4. 하위 모듈의 이름을 불러오는 다른 방법"
   ]
  },
  {
   "cell_type": "code",
   "execution_count": 108,
   "id": "6afa122d",
   "metadata": {},
   "outputs": [
    {
     "data": {
      "text/plain": [
       "odict_keys(['start', 'loop1', 'encoder', 'loop4'])"
      ]
     },
     "execution_count": 108,
     "metadata": {},
     "output_type": "execute_result"
    }
   ],
   "source": [
    "model._modules.keys()"
   ]
  },
  {
   "cell_type": "markdown",
   "id": "e76a78ef",
   "metadata": {},
   "source": [
    "## 5. 하위 모듈 중 하나 (sequential 모듈)의 하위 모듈을 불러오는 방법"
   ]
  },
  {
   "cell_type": "code",
   "execution_count": 109,
   "id": "1a186096",
   "metadata": {},
   "outputs": [
    {
     "name": "stdout",
     "output_type": "stream",
     "text": [
      "Children Counter:  17  Layer Name:  0 AvgPool3d(kernel_size=(1, 2, 2), stride=(1, 2, 2), padding=0)\n",
      "Children Counter:  18  Layer Name:  1 Conv3d(32, 64, kernel_size=(3, 3, 3), stride=(1, 1, 1), padding=(1, 1, 1))\n",
      "Children Counter:  19  Layer Name:  2 BatchNorm3d(64, eps=1e-05, momentum=0.1, affine=True, track_running_stats=True)\n",
      "Children Counter:  20  Layer Name:  3 ELU(alpha=1.0)\n",
      "Children Counter:  21  Layer Name:  4 Conv3d(64, 64, kernel_size=(3, 3, 3), stride=(1, 1, 1), padding=(1, 1, 1))\n",
      "Children Counter:  22  Layer Name:  5 BatchNorm3d(64, eps=1e-05, momentum=0.1, affine=True, track_running_stats=True)\n",
      "Children Counter:  23  Layer Name:  6 ELU(alpha=1.0)\n"
     ]
    }
   ],
   "source": [
    "for n,c in model._modules['loop1'].named_children():\n",
    "    print(\"Children Counter: \",children_counter,\" Layer Name: \",n, c)\n",
    "    children_counter+=1"
   ]
  },
  {
   "cell_type": "markdown",
   "id": "1d4b5bcc",
   "metadata": {},
   "source": [
    "## 하위 모듈을 변형하는 방법"
   ]
  },
  {
   "cell_type": "code",
   "execution_count": 137,
   "id": "557dd5df",
   "metadata": {},
   "outputs": [
    {
     "data": {
      "text/plain": [
       "['start', 'loop1', 'encoder', 'loop4', 'decoder', 'end']"
      ]
     },
     "execution_count": 137,
     "metadata": {},
     "output_type": "execute_result"
    }
   ],
   "source": [
    "model = PhysNetED()\n",
    "if device != 'cpu':\n",
    "    model = model.cuda()\n",
    "    \n",
    "list(model._modules.keys())"
   ]
  },
  {
   "cell_type": "code",
   "execution_count": 115,
   "id": "51c80e02",
   "metadata": {},
   "outputs": [
    {
     "data": {
      "text/plain": [
       "Sequential(\n",
       "  (0): AdaptiveAvgPool3d(output_size=(None, 1, 1))\n",
       "  (1): Conv3d(64, 1, kernel_size=(1, 1, 1), stride=(1, 1, 1))\n",
       ")"
      ]
     },
     "execution_count": 115,
     "metadata": {},
     "output_type": "execute_result"
    }
   ],
   "source": [
    "model._modules.pop('end')"
   ]
  },
  {
   "cell_type": "code",
   "execution_count": 116,
   "id": "d9508752",
   "metadata": {
    "scrolled": true
   },
   "outputs": [
    {
     "data": {
      "text/plain": [
       "PhysNetED(\n",
       "  (start): Sequential(\n",
       "    (0): Conv3d(3, 32, kernel_size=(1, 5, 5), stride=(1, 1, 1), padding=(0, 2, 2))\n",
       "    (1): BatchNorm3d(32, eps=1e-05, momentum=0.1, affine=True, track_running_stats=True)\n",
       "    (2): ELU(alpha=1.0)\n",
       "  )\n",
       "  (loop1): Sequential(\n",
       "    (0): AvgPool3d(kernel_size=(1, 2, 2), stride=(1, 2, 2), padding=0)\n",
       "    (1): Conv3d(32, 64, kernel_size=(3, 3, 3), stride=(1, 1, 1), padding=(1, 1, 1))\n",
       "    (2): BatchNorm3d(64, eps=1e-05, momentum=0.1, affine=True, track_running_stats=True)\n",
       "    (3): ELU(alpha=1.0)\n",
       "    (4): Conv3d(64, 64, kernel_size=(3, 3, 3), stride=(1, 1, 1), padding=(1, 1, 1))\n",
       "    (5): BatchNorm3d(64, eps=1e-05, momentum=0.1, affine=True, track_running_stats=True)\n",
       "    (6): ELU(alpha=1.0)\n",
       "  )\n",
       "  (encoder): Sequential(\n",
       "    (0): AvgPool3d(kernel_size=(2, 2, 2), stride=(2, 2, 2), padding=0)\n",
       "    (1): Conv3d(64, 64, kernel_size=(3, 3, 3), stride=(1, 1, 1), padding=(1, 1, 1))\n",
       "    (2): BatchNorm3d(64, eps=1e-05, momentum=0.1, affine=True, track_running_stats=True)\n",
       "    (3): ELU(alpha=1.0)\n",
       "    (4): Conv3d(64, 64, kernel_size=(3, 3, 3), stride=(1, 1, 1), padding=(1, 1, 1))\n",
       "    (5): BatchNorm3d(64, eps=1e-05, momentum=0.1, affine=True, track_running_stats=True)\n",
       "    (6): ELU(alpha=1.0)\n",
       "    (7): AvgPool3d(kernel_size=(2, 2, 2), stride=(2, 2, 2), padding=0)\n",
       "    (8): Conv3d(64, 64, kernel_size=(3, 3, 3), stride=(1, 1, 1), padding=(1, 1, 1))\n",
       "    (9): BatchNorm3d(64, eps=1e-05, momentum=0.1, affine=True, track_running_stats=True)\n",
       "    (10): ELU(alpha=1.0)\n",
       "    (11): Conv3d(64, 64, kernel_size=(3, 3, 3), stride=(1, 1, 1), padding=(1, 1, 1))\n",
       "    (12): BatchNorm3d(64, eps=1e-05, momentum=0.1, affine=True, track_running_stats=True)\n",
       "    (13): ELU(alpha=1.0)\n",
       "  )\n",
       "  (loop4): Sequential(\n",
       "    (0): AvgPool3d(kernel_size=(1, 2, 2), stride=(1, 2, 2), padding=0)\n",
       "    (1): Conv3d(64, 64, kernel_size=(3, 3, 3), stride=(1, 1, 1), padding=(1, 1, 1))\n",
       "    (2): BatchNorm3d(64, eps=1e-05, momentum=0.1, affine=True, track_running_stats=True)\n",
       "    (3): ELU(alpha=1.0)\n",
       "    (4): Conv3d(64, 64, kernel_size=(3, 3, 3), stride=(1, 1, 1), padding=(1, 1, 1))\n",
       "    (5): BatchNorm3d(64, eps=1e-05, momentum=0.1, affine=True, track_running_stats=True)\n",
       "    (6): ELU(alpha=1.0)\n",
       "  )\n",
       "  (decoder): Sequential(\n",
       "    (0): ConvTranspose3d(64, 64, kernel_size=(4, 1, 1), stride=(2, 1, 1), padding=(1, 0, 0))\n",
       "    (1): BatchNorm3d(64, eps=1e-05, momentum=0.1, affine=True, track_running_stats=True)\n",
       "    (2): ELU(alpha=1.0)\n",
       "    (3): ConvTranspose3d(64, 64, kernel_size=(4, 1, 1), stride=(2, 1, 1), padding=(1, 0, 0))\n",
       "    (4): BatchNorm3d(64, eps=1e-05, momentum=0.1, affine=True, track_running_stats=True)\n",
       "    (5): ELU(alpha=1.0)\n",
       "  )\n",
       ")"
      ]
     },
     "execution_count": 116,
     "metadata": {},
     "output_type": "execute_result"
    }
   ],
   "source": [
    "model"
   ]
  },
  {
   "cell_type": "code",
   "execution_count": 13,
   "id": "146608e8",
   "metadata": {},
   "outputs": [
    {
     "data": {
      "text/plain": [
       "Sequential(\n",
       "  (0): ConvTranspose3d(64, 64, kernel_size=(4, 1, 1), stride=(2, 1, 1), padding=(1, 0, 0))\n",
       "  (1): BatchNorm3d(64, eps=1e-05, momentum=0.1, affine=True, track_running_stats=True)\n",
       "  (2): ELU(alpha=1.0)\n",
       "  (3): ConvTranspose3d(64, 64, kernel_size=(4, 1, 1), stride=(2, 1, 1), padding=(1, 0, 0))\n",
       "  (4): BatchNorm3d(64, eps=1e-05, momentum=0.1, affine=True, track_running_stats=True)\n",
       "  (5): ELU(alpha=1.0)\n",
       ")"
      ]
     },
     "execution_count": 13,
     "metadata": {},
     "output_type": "execute_result"
    }
   ],
   "source": [
    "model._modules.pop('decoder')"
   ]
  },
  {
   "cell_type": "markdown",
   "id": "74678c72",
   "metadata": {},
   "source": [
    "## 모델의 weight를 불러오는 방법"
   ]
  },
  {
   "cell_type": "code",
   "execution_count": 122,
   "id": "1e4484f4",
   "metadata": {},
   "outputs": [
    {
     "data": {
      "text/plain": [
       "Parameter containing:\n",
       "tensor([[[[[ 0.0963, -0.0833,  0.0396,  0.0071,  0.0276],\n",
       "           [ 0.0028, -0.0728, -0.0995,  0.0688,  0.0025],\n",
       "           [-0.0203, -0.0626,  0.0704, -0.0712,  0.0240],\n",
       "           [ 0.0330, -0.0517, -0.1059,  0.0559,  0.0344],\n",
       "           [ 0.0634, -0.0390,  0.1151,  0.0638,  0.1108]]],\n",
       "\n",
       "\n",
       "         [[[-0.0811, -0.1099, -0.0520,  0.0273, -0.1065],\n",
       "           [-0.0343, -0.0977,  0.0440,  0.0144,  0.0870],\n",
       "           [-0.0545, -0.0484, -0.0416,  0.0855,  0.0412],\n",
       "           [-0.0410, -0.0022, -0.0872,  0.0916, -0.0339],\n",
       "           [ 0.0583, -0.0247, -0.0411,  0.0390,  0.0417]]],\n",
       "\n",
       "\n",
       "         [[[-0.0456,  0.0529,  0.0801,  0.0196, -0.0715],\n",
       "           [-0.1049, -0.0038, -0.0465, -0.0685, -0.0363],\n",
       "           [ 0.0305, -0.0641, -0.0994, -0.0187, -0.0215],\n",
       "           [ 0.0274,  0.0895,  0.0184, -0.0872,  0.0168],\n",
       "           [ 0.0624,  0.0205, -0.0367, -0.0601, -0.0524]]]],\n",
       "\n",
       "\n",
       "\n",
       "        [[[[-0.0729,  0.0866,  0.0674,  0.0424, -0.0425],\n",
       "           [ 0.0489,  0.0174, -0.0776, -0.0408, -0.0017],\n",
       "           [-0.0927, -0.0582,  0.0636, -0.0606, -0.0835],\n",
       "           [-0.0216, -0.0649, -0.0254,  0.0122, -0.0942],\n",
       "           [ 0.0380,  0.0329,  0.0398, -0.0725,  0.0666]]],\n",
       "\n",
       "\n",
       "         [[[-0.0736, -0.0649,  0.0319,  0.0065, -0.1102],\n",
       "           [ 0.0773, -0.0851, -0.0793,  0.0191, -0.1047],\n",
       "           [ 0.0557,  0.0298,  0.1104, -0.0459,  0.0669],\n",
       "           [-0.0111,  0.0539,  0.0014,  0.0981,  0.0069],\n",
       "           [-0.0292,  0.0307,  0.0905,  0.1106,  0.0921]]],\n",
       "\n",
       "\n",
       "         [[[-0.1028,  0.0089, -0.0104, -0.0100, -0.0220],\n",
       "           [ 0.0535,  0.0648, -0.0508, -0.0089, -0.0970],\n",
       "           [-0.1018, -0.1023,  0.0409,  0.0893,  0.1147],\n",
       "           [ 0.0046, -0.1077,  0.0102, -0.0297,  0.0230],\n",
       "           [ 0.0823, -0.1012,  0.0265,  0.0554,  0.0934]]]],\n",
       "\n",
       "\n",
       "\n",
       "        [[[[-0.0822,  0.0230,  0.0319, -0.0132,  0.0018],\n",
       "           [-0.0540,  0.0853, -0.0435, -0.0291,  0.0012],\n",
       "           [-0.0698, -0.0328,  0.0764,  0.0436, -0.0355],\n",
       "           [ 0.0239, -0.0370,  0.0888, -0.1107, -0.0695],\n",
       "           [-0.0075, -0.0180,  0.0070,  0.0082,  0.0494]]],\n",
       "\n",
       "\n",
       "         [[[-0.0315,  0.0363, -0.0970, -0.0648, -0.0856],\n",
       "           [ 0.0887, -0.0628,  0.1139, -0.1020,  0.0357],\n",
       "           [-0.0910,  0.0045,  0.0641, -0.0996,  0.0908],\n",
       "           [-0.0597,  0.1066,  0.0635, -0.0684, -0.0211],\n",
       "           [ 0.0660,  0.0305, -0.0360, -0.0337, -0.0173]]],\n",
       "\n",
       "\n",
       "         [[[-0.1142,  0.0710,  0.0626,  0.0253, -0.0892],\n",
       "           [ 0.0682,  0.0242,  0.0731,  0.0881,  0.0742],\n",
       "           [-0.0981, -0.0960,  0.0966, -0.0042,  0.1081],\n",
       "           [-0.0461, -0.0723,  0.0844,  0.0589,  0.0254],\n",
       "           [-0.0651, -0.0862,  0.0429, -0.0046,  0.1153]]]],\n",
       "\n",
       "\n",
       "\n",
       "        ...,\n",
       "\n",
       "\n",
       "\n",
       "        [[[[ 0.0117, -0.0783, -0.0285,  0.0469, -0.0288],\n",
       "           [-0.0237, -0.0745, -0.0641,  0.0471,  0.0184],\n",
       "           [ 0.0254, -0.0073,  0.0131,  0.0183, -0.1128],\n",
       "           [-0.0317,  0.0541, -0.0420,  0.0991,  0.0956],\n",
       "           [ 0.0220, -0.0293, -0.0488,  0.1038,  0.0722]]],\n",
       "\n",
       "\n",
       "         [[[-0.0177,  0.0473,  0.0124,  0.0605,  0.0157],\n",
       "           [ 0.0432, -0.0069,  0.0175, -0.0285, -0.0985],\n",
       "           [-0.0237, -0.0526, -0.0688, -0.0192, -0.0136],\n",
       "           [ 0.1103,  0.0425,  0.0675,  0.0685,  0.0280],\n",
       "           [-0.0485, -0.0758, -0.0130,  0.0376,  0.0761]]],\n",
       "\n",
       "\n",
       "         [[[-0.0048,  0.0975,  0.1086, -0.0365, -0.0624],\n",
       "           [ 0.0152, -0.1058, -0.0599,  0.0089,  0.0968],\n",
       "           [-0.0841, -0.0164, -0.0461,  0.0492,  0.0951],\n",
       "           [ 0.0678,  0.0834,  0.0611,  0.0954, -0.0187],\n",
       "           [-0.1140,  0.1114, -0.0829,  0.0635,  0.0229]]]],\n",
       "\n",
       "\n",
       "\n",
       "        [[[[-0.0088,  0.0178,  0.0585,  0.0754,  0.1117],\n",
       "           [ 0.0771, -0.0935,  0.0827, -0.1075, -0.0492],\n",
       "           [-0.0352, -0.0983,  0.0108, -0.0154,  0.0460],\n",
       "           [-0.1102, -0.0122,  0.0149,  0.0462,  0.0127],\n",
       "           [ 0.1044, -0.0391, -0.0277, -0.0230, -0.0748]]],\n",
       "\n",
       "\n",
       "         [[[ 0.0200,  0.1115, -0.0119,  0.1086,  0.0494],\n",
       "           [-0.0135, -0.0693, -0.0405, -0.0711,  0.0506],\n",
       "           [-0.0999,  0.1128, -0.0686,  0.0677,  0.0729],\n",
       "           [ 0.0856, -0.0860, -0.0971,  0.0625, -0.0977],\n",
       "           [ 0.0898, -0.1111, -0.0449, -0.0991,  0.1091]]],\n",
       "\n",
       "\n",
       "         [[[-0.0070,  0.0336, -0.0498,  0.0505, -0.0917],\n",
       "           [-0.0900, -0.0284,  0.0999,  0.0896, -0.0616],\n",
       "           [ 0.0629, -0.0282,  0.1095,  0.0679, -0.0428],\n",
       "           [-0.0743, -0.0762,  0.0761, -0.0395, -0.0812],\n",
       "           [ 0.0129,  0.0547,  0.1122,  0.1130, -0.0268]]]],\n",
       "\n",
       "\n",
       "\n",
       "        [[[[ 0.0272, -0.0892, -0.0188,  0.0143, -0.1051],\n",
       "           [ 0.1033,  0.0899, -0.0554,  0.0164,  0.0613],\n",
       "           [-0.0303, -0.0648, -0.0983, -0.0232,  0.0023],\n",
       "           [ 0.1112,  0.0072,  0.0496, -0.1048, -0.0273],\n",
       "           [-0.0384, -0.0012,  0.0026,  0.1052,  0.0423]]],\n",
       "\n",
       "\n",
       "         [[[-0.0490,  0.0326, -0.0391, -0.1096, -0.0784],\n",
       "           [ 0.0430, -0.0777,  0.0649,  0.1059,  0.0300],\n",
       "           [ 0.0193,  0.0066,  0.0878, -0.0850, -0.1039],\n",
       "           [-0.0037, -0.0390, -0.0170,  0.0437, -0.0798],\n",
       "           [-0.0582,  0.0068,  0.0794,  0.0881, -0.0595]]],\n",
       "\n",
       "\n",
       "         [[[ 0.0335, -0.0944, -0.0962,  0.0495,  0.0820],\n",
       "           [-0.0630,  0.0272,  0.0438, -0.0638,  0.0946],\n",
       "           [-0.0442,  0.0115, -0.0427, -0.0817,  0.0297],\n",
       "           [ 0.0246,  0.0004,  0.0090,  0.1050, -0.0285],\n",
       "           [-0.0584, -0.0172,  0.0570, -0.0450,  0.0857]]]]], device='cuda:1',\n",
       "       requires_grad=True)"
      ]
     },
     "execution_count": 122,
     "metadata": {},
     "output_type": "execute_result"
    }
   ],
   "source": [
    "model.start[0].weight"
   ]
  },
  {
   "cell_type": "code",
   "execution_count": 140,
   "id": "d60dd346",
   "metadata": {},
   "outputs": [
    {
     "data": {
      "text/plain": [
       "<bound method Module.parameters of Sequential(\n",
       "  (0): Conv3d(3, 32, kernel_size=(1, 5, 5), stride=(1, 1, 1), padding=(0, 2, 2))\n",
       "  (1): BatchNorm3d(32, eps=1e-05, momentum=0.1, affine=True, track_running_stats=True)\n",
       "  (2): ELU(alpha=1.0)\n",
       ")>"
      ]
     },
     "execution_count": 140,
     "metadata": {},
     "output_type": "execute_result"
    }
   ],
   "source": [
    "pretrained.start.parameters"
   ]
  },
  {
   "cell_type": "markdown",
   "id": "7c0d4c0c",
   "metadata": {},
   "source": [
    "## How to get intermediate layer output in a model"
   ]
  },
  {
   "cell_type": "code",
   "execution_count": 134,
   "id": "2f435f4d",
   "metadata": {},
   "outputs": [
    {
     "data": {
      "text/plain": [
       "new_model(\n",
       "  (net): Sequential(\n",
       "    (start): Sequential(\n",
       "      (0): Conv3d(3, 32, kernel_size=(1, 5, 5), stride=(1, 1, 1), padding=(0, 2, 2))\n",
       "      (1): BatchNorm3d(32, eps=1e-05, momentum=0.1, affine=True, track_running_stats=True)\n",
       "      (2): ELU(alpha=1.0)\n",
       "    )\n",
       "    (loop1): Sequential(\n",
       "      (0): AvgPool3d(kernel_size=(1, 2, 2), stride=(1, 2, 2), padding=0)\n",
       "      (1): Conv3d(32, 64, kernel_size=(3, 3, 3), stride=(1, 1, 1), padding=(1, 1, 1))\n",
       "      (2): BatchNorm3d(64, eps=1e-05, momentum=0.1, affine=True, track_running_stats=True)\n",
       "      (3): ELU(alpha=1.0)\n",
       "      (4): Conv3d(64, 64, kernel_size=(3, 3, 3), stride=(1, 1, 1), padding=(1, 1, 1))\n",
       "      (5): BatchNorm3d(64, eps=1e-05, momentum=0.1, affine=True, track_running_stats=True)\n",
       "      (6): ELU(alpha=1.0)\n",
       "    )\n",
       "    (encoder): Sequential(\n",
       "      (0): AvgPool3d(kernel_size=(2, 2, 2), stride=(2, 2, 2), padding=0)\n",
       "      (1): Conv3d(64, 64, kernel_size=(3, 3, 3), stride=(1, 1, 1), padding=(1, 1, 1))\n",
       "      (2): BatchNorm3d(64, eps=1e-05, momentum=0.1, affine=True, track_running_stats=True)\n",
       "      (3): ELU(alpha=1.0)\n",
       "      (4): Conv3d(64, 64, kernel_size=(3, 3, 3), stride=(1, 1, 1), padding=(1, 1, 1))\n",
       "      (5): BatchNorm3d(64, eps=1e-05, momentum=0.1, affine=True, track_running_stats=True)\n",
       "      (6): ELU(alpha=1.0)\n",
       "      (7): AvgPool3d(kernel_size=(2, 2, 2), stride=(2, 2, 2), padding=0)\n",
       "      (8): Conv3d(64, 64, kernel_size=(3, 3, 3), stride=(1, 1, 1), padding=(1, 1, 1))\n",
       "      (9): BatchNorm3d(64, eps=1e-05, momentum=0.1, affine=True, track_running_stats=True)\n",
       "      (10): ELU(alpha=1.0)\n",
       "      (11): Conv3d(64, 64, kernel_size=(3, 3, 3), stride=(1, 1, 1), padding=(1, 1, 1))\n",
       "      (12): BatchNorm3d(64, eps=1e-05, momentum=0.1, affine=True, track_running_stats=True)\n",
       "      (13): ELU(alpha=1.0)\n",
       "    )\n",
       "    (loop4): Sequential(\n",
       "      (0): AvgPool3d(kernel_size=(1, 2, 2), stride=(1, 2, 2), padding=0)\n",
       "      (1): Conv3d(64, 64, kernel_size=(3, 3, 3), stride=(1, 1, 1), padding=(1, 1, 1))\n",
       "      (2): BatchNorm3d(64, eps=1e-05, momentum=0.1, affine=True, track_running_stats=True)\n",
       "      (3): ELU(alpha=1.0)\n",
       "      (4): Conv3d(64, 64, kernel_size=(3, 3, 3), stride=(1, 1, 1), padding=(1, 1, 1))\n",
       "      (5): BatchNorm3d(64, eps=1e-05, momentum=0.1, affine=True, track_running_stats=True)\n",
       "      (6): ELU(alpha=1.0)\n",
       "    )\n",
       "  )\n",
       ")"
      ]
     },
     "execution_count": 134,
     "metadata": {},
     "output_type": "execute_result"
    }
   ],
   "source": [
    "model = PhysNetED()\n",
    "if device != 'cpu':\n",
    "    model = model.cuda()\n",
    "    \n",
    "class new_model(nn.Module):\n",
    "    def __init__(self, model, output_layer = None):\n",
    "        super().__init__()\n",
    "        layers = list(model._modules.keys())\n",
    "        layer_count = 0\n",
    "        for l in layers:\n",
    "            if l != output_layer:\n",
    "                layer_count += 1\n",
    "            else:\n",
    "                break\n",
    "        for i in range(1,len(layers)-layer_count):\n",
    "            dummy_var = model._modules.pop(layers[-i])\n",
    "        self.net = nn.Sequential(model._modules)\n",
    "\n",
    "    def forward(self,x):\n",
    "        x = self.net(x)\n",
    "        return x\n",
    "    \n",
    "model2 = new_model(model, output_layer = 'loop4')\n",
    "model2"
   ]
  },
  {
   "cell_type": "code",
   "execution_count": 135,
   "id": "f6170190",
   "metadata": {},
   "outputs": [
    {
     "data": {
      "text/plain": [
       "PhysNetED(\n",
       "  (start): Sequential(\n",
       "    (0): Conv3d(3, 32, kernel_size=(1, 5, 5), stride=(1, 1, 1), padding=(0, 2, 2))\n",
       "    (1): BatchNorm3d(32, eps=1e-05, momentum=0.1, affine=True, track_running_stats=True)\n",
       "    (2): ELU(alpha=1.0)\n",
       "  )\n",
       "  (loop1): Sequential(\n",
       "    (0): AvgPool3d(kernel_size=(1, 2, 2), stride=(1, 2, 2), padding=0)\n",
       "    (1): Conv3d(32, 64, kernel_size=(3, 3, 3), stride=(1, 1, 1), padding=(1, 1, 1))\n",
       "    (2): BatchNorm3d(64, eps=1e-05, momentum=0.1, affine=True, track_running_stats=True)\n",
       "    (3): ELU(alpha=1.0)\n",
       "    (4): Conv3d(64, 64, kernel_size=(3, 3, 3), stride=(1, 1, 1), padding=(1, 1, 1))\n",
       "    (5): BatchNorm3d(64, eps=1e-05, momentum=0.1, affine=True, track_running_stats=True)\n",
       "    (6): ELU(alpha=1.0)\n",
       "  )\n",
       "  (encoder): Sequential(\n",
       "    (0): AvgPool3d(kernel_size=(2, 2, 2), stride=(2, 2, 2), padding=0)\n",
       "    (1): Conv3d(64, 64, kernel_size=(3, 3, 3), stride=(1, 1, 1), padding=(1, 1, 1))\n",
       "    (2): BatchNorm3d(64, eps=1e-05, momentum=0.1, affine=True, track_running_stats=True)\n",
       "    (3): ELU(alpha=1.0)\n",
       "    (4): Conv3d(64, 64, kernel_size=(3, 3, 3), stride=(1, 1, 1), padding=(1, 1, 1))\n",
       "    (5): BatchNorm3d(64, eps=1e-05, momentum=0.1, affine=True, track_running_stats=True)\n",
       "    (6): ELU(alpha=1.0)\n",
       "    (7): AvgPool3d(kernel_size=(2, 2, 2), stride=(2, 2, 2), padding=0)\n",
       "    (8): Conv3d(64, 64, kernel_size=(3, 3, 3), stride=(1, 1, 1), padding=(1, 1, 1))\n",
       "    (9): BatchNorm3d(64, eps=1e-05, momentum=0.1, affine=True, track_running_stats=True)\n",
       "    (10): ELU(alpha=1.0)\n",
       "    (11): Conv3d(64, 64, kernel_size=(3, 3, 3), stride=(1, 1, 1), padding=(1, 1, 1))\n",
       "    (12): BatchNorm3d(64, eps=1e-05, momentum=0.1, affine=True, track_running_stats=True)\n",
       "    (13): ELU(alpha=1.0)\n",
       "  )\n",
       "  (loop4): Sequential(\n",
       "    (0): AvgPool3d(kernel_size=(1, 2, 2), stride=(1, 2, 2), padding=0)\n",
       "    (1): Conv3d(64, 64, kernel_size=(3, 3, 3), stride=(1, 1, 1), padding=(1, 1, 1))\n",
       "    (2): BatchNorm3d(64, eps=1e-05, momentum=0.1, affine=True, track_running_stats=True)\n",
       "    (3): ELU(alpha=1.0)\n",
       "    (4): Conv3d(64, 64, kernel_size=(3, 3, 3), stride=(1, 1, 1), padding=(1, 1, 1))\n",
       "    (5): BatchNorm3d(64, eps=1e-05, momentum=0.1, affine=True, track_running_stats=True)\n",
       "    (6): ELU(alpha=1.0)\n",
       "  )\n",
       ")"
      ]
     },
     "execution_count": 135,
     "metadata": {},
     "output_type": "execute_result"
    }
   ],
   "source": [
    "model"
   ]
  },
  {
   "cell_type": "code",
   "execution_count": null,
   "id": "08f90b03",
   "metadata": {},
   "outputs": [],
   "source": [
    "video, target = trainset.__getitem__(0)"
   ]
  },
  {
   "cell_type": "code",
   "execution_count": 22,
   "id": "4ddc427a",
   "metadata": {},
   "outputs": [
    {
     "data": {
      "text/plain": [
       "(torch.Size([3, 32, 128, 128]), torch.Size([32]))"
      ]
     },
     "execution_count": 22,
     "metadata": {},
     "output_type": "execute_result"
    }
   ],
   "source": [
    "video.shape, target.shape"
   ]
  },
  {
   "cell_type": "code",
   "execution_count": null,
   "id": "35b2a3e5",
   "metadata": {},
   "outputs": [],
   "source": [
    "for videos, targets in trainloader:\n",
    "    break"
   ]
  },
  {
   "cell_type": "code",
   "execution_count": 28,
   "id": "cd2e22e1",
   "metadata": {},
   "outputs": [
    {
     "data": {
      "text/plain": [
       "torch.Size([2, 3, 32, 128, 128])"
      ]
     },
     "execution_count": 28,
     "metadata": {},
     "output_type": "execute_result"
    }
   ],
   "source": [
    "videos[:2].shape"
   ]
  },
  {
   "cell_type": "markdown",
   "id": "f6da31a6",
   "metadata": {},
   "source": [
    "## Cuda 디바이스 선택하는 방법"
   ]
  },
  {
   "cell_type": "code",
   "execution_count": 31,
   "id": "cbc1d95f",
   "metadata": {},
   "outputs": [
    {
     "data": {
      "text/plain": [
       "device(type='cpu')"
      ]
     },
     "execution_count": 31,
     "metadata": {},
     "output_type": "execute_result"
    }
   ],
   "source": [
    "videos.device"
   ]
  },
  {
   "cell_type": "code",
   "execution_count": 32,
   "id": "47ac9acc",
   "metadata": {},
   "outputs": [
    {
     "data": {
      "text/plain": [
       "'cuda'"
      ]
     },
     "execution_count": 32,
     "metadata": {},
     "output_type": "execute_result"
    }
   ],
   "source": [
    "device"
   ]
  },
  {
   "cell_type": "code",
   "execution_count": 40,
   "id": "434d35f1",
   "metadata": {},
   "outputs": [],
   "source": [
    "videos = videos.to(device)"
   ]
  },
  {
   "cell_type": "code",
   "execution_count": 42,
   "id": "636954ff",
   "metadata": {},
   "outputs": [
    {
     "data": {
      "text/plain": [
       "device(type='cuda', index=0)"
      ]
     },
     "execution_count": 42,
     "metadata": {},
     "output_type": "execute_result"
    }
   ],
   "source": [
    "videos.device"
   ]
  },
  {
   "cell_type": "code",
   "execution_count": 47,
   "id": "0cd0583a",
   "metadata": {},
   "outputs": [
    {
     "data": {
      "text/plain": [
       "(True, 2, 0, 'Quadro RTX 8000')"
      ]
     },
     "execution_count": 47,
     "metadata": {},
     "output_type": "execute_result"
    }
   ],
   "source": [
    " torch.cuda.is_available(), torch.cuda.device_count(), torch.cuda.current_device(), torch.cuda.get_device_name(device)"
   ]
  },
  {
   "cell_type": "code",
   "execution_count": 141,
   "id": "71b3b8f9",
   "metadata": {},
   "outputs": [
    {
     "name": "stdout",
     "output_type": "stream",
     "text": [
      "Wed Jun  2 15:51:49 2021       \r\n",
      "+-----------------------------------------------------------------------------+\r\n",
      "| NVIDIA-SMI 460.80       Driver Version: 460.80       CUDA Version: 11.2     |\r\n",
      "|-------------------------------+----------------------+----------------------+\r\n",
      "| GPU  Name        Persistence-M| Bus-Id        Disp.A | Volatile Uncorr. ECC |\r\n",
      "| Fan  Temp  Perf  Pwr:Usage/Cap|         Memory-Usage | GPU-Util  Compute M. |\r\n",
      "|                               |                      |               MIG M. |\r\n",
      "|===============================+======================+======================|\r\n",
      "|   0  Quadro RTX 8000     Off  | 00000000:1A:00.0 Off |                  Off |\r\n",
      "| 33%   30C    P8    10W / 260W |   4519MiB / 48601MiB |      0%      Default |\r\n",
      "|                               |                      |                  N/A |\r\n",
      "+-------------------------------+----------------------+----------------------+\r\n",
      "|   1  GeForce RTX 208...  Off  | 00000000:1D:00.0 Off |                  N/A |\r\n",
      "| 31%   31C    P8     1W / 250W |    950MiB / 11019MiB |      0%      Default |\r\n",
      "|                               |                      |                  N/A |\r\n",
      "+-------------------------------+----------------------+----------------------+\r\n",
      "                                                                               \r\n",
      "+-----------------------------------------------------------------------------+\r\n",
      "| Processes:                                                                  |\r\n",
      "|  GPU   GI   CI        PID   Type   Process name                  GPU Memory |\r\n",
      "|        ID   ID                                                   Usage      |\r\n",
      "|=============================================================================|\r\n",
      "|    0   N/A  N/A     18490      C   ...envs/rppgtorch/bin/python     4516MiB |\r\n",
      "|    1   N/A  N/A     18490      C   ...envs/rppgtorch/bin/python      947MiB |\r\n",
      "+-----------------------------------------------------------------------------+\r\n"
     ]
    }
   ],
   "source": [
    "!nvidia-smi"
   ]
  },
  {
   "cell_type": "code",
   "execution_count": 48,
   "id": "91a728d4",
   "metadata": {},
   "outputs": [
    {
     "data": {
      "text/plain": [
       "device(type='cuda', index=1)"
      ]
     },
     "execution_count": 48,
     "metadata": {},
     "output_type": "execute_result"
    }
   ],
   "source": [
    "# GPU 할당 변경하기\n",
    "GPU_NUM = 1 # 원하는 GPU 번호 입력\n",
    "device = torch.device(f'cuda:{GPU_NUM}' if torch.cuda.is_available() else 'cpu')\n",
    "device"
   ]
  },
  {
   "cell_type": "code",
   "execution_count": 49,
   "id": "2fd4de42",
   "metadata": {},
   "outputs": [],
   "source": [
    "torch.cuda.set_device(device) # change allocation of current GPU"
   ]
  },
  {
   "cell_type": "markdown",
   "id": "147abce2",
   "metadata": {},
   "source": [
    "## 그냥 pop 시킨 모델은 여전히 decoder와 end 모듈을 불러온다."
   ]
  },
  {
   "cell_type": "code",
   "execution_count": 50,
   "id": "bfd4d2b1",
   "metadata": {},
   "outputs": [
    {
     "ename": "AttributeError",
     "evalue": "'PhysNetED' object has no attribute 'decoder'",
     "output_type": "error",
     "traceback": [
      "\u001b[0;31m---------------------------------------------------------------------------\u001b[0m",
      "\u001b[0;31mAttributeError\u001b[0m                            Traceback (most recent call last)",
      "\u001b[0;32m<ipython-input-50-2ea1fb01468a>\u001b[0m in \u001b[0;36m<module>\u001b[0;34m\u001b[0m\n\u001b[0;32m----> 1\u001b[0;31m \u001b[0mpretrained\u001b[0m\u001b[0;34m(\u001b[0m\u001b[0mvideos\u001b[0m\u001b[0;34m[\u001b[0m\u001b[0;34m:\u001b[0m\u001b[0;36m2\u001b[0m\u001b[0;34m]\u001b[0m\u001b[0;34m)\u001b[0m\u001b[0;34m\u001b[0m\u001b[0;34m\u001b[0m\u001b[0m\n\u001b[0m",
      "\u001b[0;32m~/anaconda3/envs/rppgtorch/lib/python3.7/site-packages/torch/nn/modules/module.py\u001b[0m in \u001b[0;36m_call_impl\u001b[0;34m(self, *input, **kwargs)\u001b[0m\n\u001b[1;32m    887\u001b[0m             \u001b[0mresult\u001b[0m \u001b[0;34m=\u001b[0m \u001b[0mself\u001b[0m\u001b[0;34m.\u001b[0m\u001b[0m_slow_forward\u001b[0m\u001b[0;34m(\u001b[0m\u001b[0;34m*\u001b[0m\u001b[0minput\u001b[0m\u001b[0;34m,\u001b[0m \u001b[0;34m**\u001b[0m\u001b[0mkwargs\u001b[0m\u001b[0;34m)\u001b[0m\u001b[0;34m\u001b[0m\u001b[0;34m\u001b[0m\u001b[0m\n\u001b[1;32m    888\u001b[0m         \u001b[0;32melse\u001b[0m\u001b[0;34m:\u001b[0m\u001b[0;34m\u001b[0m\u001b[0;34m\u001b[0m\u001b[0m\n\u001b[0;32m--> 889\u001b[0;31m             \u001b[0mresult\u001b[0m \u001b[0;34m=\u001b[0m \u001b[0mself\u001b[0m\u001b[0;34m.\u001b[0m\u001b[0mforward\u001b[0m\u001b[0;34m(\u001b[0m\u001b[0;34m*\u001b[0m\u001b[0minput\u001b[0m\u001b[0;34m,\u001b[0m \u001b[0;34m**\u001b[0m\u001b[0mkwargs\u001b[0m\u001b[0;34m)\u001b[0m\u001b[0;34m\u001b[0m\u001b[0;34m\u001b[0m\u001b[0m\n\u001b[0m\u001b[1;32m    890\u001b[0m         for hook in itertools.chain(\n\u001b[1;32m    891\u001b[0m                 \u001b[0m_global_forward_hooks\u001b[0m\u001b[0;34m.\u001b[0m\u001b[0mvalues\u001b[0m\u001b[0;34m(\u001b[0m\u001b[0;34m)\u001b[0m\u001b[0;34m,\u001b[0m\u001b[0;34m\u001b[0m\u001b[0;34m\u001b[0m\u001b[0m\n",
      "\u001b[0;32m~/Dropbox/rPPG_school/git_repo/src/archs.py\u001b[0m in \u001b[0;36mforward\u001b[0;34m(self, x)\u001b[0m\n\u001b[1;32m     87\u001b[0m         \u001b[0mx\u001b[0m \u001b[0;34m=\u001b[0m \u001b[0mself\u001b[0m\u001b[0;34m.\u001b[0m\u001b[0mencoder\u001b[0m\u001b[0;34m(\u001b[0m\u001b[0mx\u001b[0m\u001b[0;34m)\u001b[0m\u001b[0;34m\u001b[0m\u001b[0;34m\u001b[0m\u001b[0m\n\u001b[1;32m     88\u001b[0m         \u001b[0mx\u001b[0m \u001b[0;34m=\u001b[0m \u001b[0mself\u001b[0m\u001b[0;34m.\u001b[0m\u001b[0mloop4\u001b[0m\u001b[0;34m(\u001b[0m\u001b[0mx\u001b[0m\u001b[0;34m)\u001b[0m\u001b[0;34m\u001b[0m\u001b[0;34m\u001b[0m\u001b[0m\n\u001b[0;32m---> 89\u001b[0;31m         \u001b[0mx\u001b[0m \u001b[0;34m=\u001b[0m \u001b[0mself\u001b[0m\u001b[0;34m.\u001b[0m\u001b[0mdecoder\u001b[0m\u001b[0;34m(\u001b[0m\u001b[0mx\u001b[0m\u001b[0;34m)\u001b[0m\u001b[0;34m\u001b[0m\u001b[0;34m\u001b[0m\u001b[0m\n\u001b[0m\u001b[1;32m     90\u001b[0m         \u001b[0mx\u001b[0m \u001b[0;34m=\u001b[0m \u001b[0mself\u001b[0m\u001b[0;34m.\u001b[0m\u001b[0mend\u001b[0m\u001b[0;34m(\u001b[0m\u001b[0mx\u001b[0m\u001b[0;34m)\u001b[0m\u001b[0;34m\u001b[0m\u001b[0;34m\u001b[0m\u001b[0m\n\u001b[1;32m     91\u001b[0m \u001b[0;34m\u001b[0m\u001b[0m\n",
      "\u001b[0;32m~/anaconda3/envs/rppgtorch/lib/python3.7/site-packages/torch/nn/modules/module.py\u001b[0m in \u001b[0;36m__getattr__\u001b[0;34m(self, name)\u001b[0m\n\u001b[1;32m    946\u001b[0m                 \u001b[0;32mreturn\u001b[0m \u001b[0mmodules\u001b[0m\u001b[0;34m[\u001b[0m\u001b[0mname\u001b[0m\u001b[0;34m]\u001b[0m\u001b[0;34m\u001b[0m\u001b[0;34m\u001b[0m\u001b[0m\n\u001b[1;32m    947\u001b[0m         raise AttributeError(\"'{}' object has no attribute '{}'\".format(\n\u001b[0;32m--> 948\u001b[0;31m             type(self).__name__, name))\n\u001b[0m\u001b[1;32m    949\u001b[0m \u001b[0;34m\u001b[0m\u001b[0m\n\u001b[1;32m    950\u001b[0m     \u001b[0;32mdef\u001b[0m \u001b[0m__setattr__\u001b[0m\u001b[0;34m(\u001b[0m\u001b[0mself\u001b[0m\u001b[0;34m,\u001b[0m \u001b[0mname\u001b[0m\u001b[0;34m:\u001b[0m \u001b[0mstr\u001b[0m\u001b[0;34m,\u001b[0m \u001b[0mvalue\u001b[0m\u001b[0;34m:\u001b[0m \u001b[0mUnion\u001b[0m\u001b[0;34m[\u001b[0m\u001b[0mTensor\u001b[0m\u001b[0;34m,\u001b[0m \u001b[0;34m'Module'\u001b[0m\u001b[0;34m]\u001b[0m\u001b[0;34m)\u001b[0m \u001b[0;34m->\u001b[0m \u001b[0;32mNone\u001b[0m\u001b[0;34m:\u001b[0m\u001b[0;34m\u001b[0m\u001b[0;34m\u001b[0m\u001b[0m\n",
      "\u001b[0;31mAttributeError\u001b[0m: 'PhysNetED' object has no attribute 'decoder'"
     ]
    }
   ],
   "source": [
    "model(videos[:2])"
   ]
  },
  {
   "cell_type": "markdown",
   "id": "84c44590",
   "metadata": {},
   "source": [
    "### 그냥 sequential로 묶고 class로 foward까지 정의해주지 않으면 에러남"
   ]
  },
  {
   "cell_type": "code",
   "execution_count": 142,
   "id": "813dfc55",
   "metadata": {},
   "outputs": [
    {
     "ename": "RuntimeError",
     "evalue": "Expected tensor for argument #1 'input' to have the same device as tensor for argument #2 'weight'; but device 0 does not equal 1 (while checking arguments for cudnn_convolution)",
     "output_type": "error",
     "traceback": [
      "\u001b[0;31m---------------------------------------------------------------------------\u001b[0m",
      "\u001b[0;31mRuntimeError\u001b[0m                              Traceback (most recent call last)",
      "\u001b[0;32m<ipython-input-142-67935f3d9acf>\u001b[0m in \u001b[0;36m<module>\u001b[0;34m\u001b[0m\n\u001b[1;32m      1\u001b[0m \u001b[0mmodel3\u001b[0m \u001b[0;34m=\u001b[0m \u001b[0mnn\u001b[0m\u001b[0;34m.\u001b[0m\u001b[0mSequential\u001b[0m\u001b[0;34m(\u001b[0m\u001b[0mmodel\u001b[0m\u001b[0;34m.\u001b[0m\u001b[0m_modules\u001b[0m\u001b[0;34m)\u001b[0m\u001b[0;34m\u001b[0m\u001b[0;34m\u001b[0m\u001b[0m\n\u001b[0;32m----> 2\u001b[0;31m \u001b[0moutput\u001b[0m \u001b[0;34m=\u001b[0m \u001b[0mmodel3\u001b[0m\u001b[0;34m(\u001b[0m\u001b[0mvideos\u001b[0m\u001b[0;34m[\u001b[0m\u001b[0;34m:\u001b[0m\u001b[0;36m2\u001b[0m\u001b[0;34m]\u001b[0m\u001b[0;34m)\u001b[0m\u001b[0;34m\u001b[0m\u001b[0;34m\u001b[0m\u001b[0m\n\u001b[0m\u001b[1;32m      3\u001b[0m \u001b[0moutput\u001b[0m\u001b[0;34m.\u001b[0m\u001b[0mshape\u001b[0m\u001b[0;34m\u001b[0m\u001b[0;34m\u001b[0m\u001b[0m\n",
      "\u001b[0;32m~/anaconda3/envs/rppgtorch/lib/python3.7/site-packages/torch/nn/modules/module.py\u001b[0m in \u001b[0;36m_call_impl\u001b[0;34m(self, *input, **kwargs)\u001b[0m\n\u001b[1;32m    887\u001b[0m             \u001b[0mresult\u001b[0m \u001b[0;34m=\u001b[0m \u001b[0mself\u001b[0m\u001b[0;34m.\u001b[0m\u001b[0m_slow_forward\u001b[0m\u001b[0;34m(\u001b[0m\u001b[0;34m*\u001b[0m\u001b[0minput\u001b[0m\u001b[0;34m,\u001b[0m \u001b[0;34m**\u001b[0m\u001b[0mkwargs\u001b[0m\u001b[0;34m)\u001b[0m\u001b[0;34m\u001b[0m\u001b[0;34m\u001b[0m\u001b[0m\n\u001b[1;32m    888\u001b[0m         \u001b[0;32melse\u001b[0m\u001b[0;34m:\u001b[0m\u001b[0;34m\u001b[0m\u001b[0;34m\u001b[0m\u001b[0m\n\u001b[0;32m--> 889\u001b[0;31m             \u001b[0mresult\u001b[0m \u001b[0;34m=\u001b[0m \u001b[0mself\u001b[0m\u001b[0;34m.\u001b[0m\u001b[0mforward\u001b[0m\u001b[0;34m(\u001b[0m\u001b[0;34m*\u001b[0m\u001b[0minput\u001b[0m\u001b[0;34m,\u001b[0m \u001b[0;34m**\u001b[0m\u001b[0mkwargs\u001b[0m\u001b[0;34m)\u001b[0m\u001b[0;34m\u001b[0m\u001b[0;34m\u001b[0m\u001b[0m\n\u001b[0m\u001b[1;32m    890\u001b[0m         for hook in itertools.chain(\n\u001b[1;32m    891\u001b[0m                 \u001b[0m_global_forward_hooks\u001b[0m\u001b[0;34m.\u001b[0m\u001b[0mvalues\u001b[0m\u001b[0;34m(\u001b[0m\u001b[0;34m)\u001b[0m\u001b[0;34m,\u001b[0m\u001b[0;34m\u001b[0m\u001b[0;34m\u001b[0m\u001b[0m\n",
      "\u001b[0;32m~/anaconda3/envs/rppgtorch/lib/python3.7/site-packages/torch/nn/modules/container.py\u001b[0m in \u001b[0;36mforward\u001b[0;34m(self, input)\u001b[0m\n\u001b[1;32m    117\u001b[0m     \u001b[0;32mdef\u001b[0m \u001b[0mforward\u001b[0m\u001b[0;34m(\u001b[0m\u001b[0mself\u001b[0m\u001b[0;34m,\u001b[0m \u001b[0minput\u001b[0m\u001b[0;34m)\u001b[0m\u001b[0;34m:\u001b[0m\u001b[0;34m\u001b[0m\u001b[0;34m\u001b[0m\u001b[0m\n\u001b[1;32m    118\u001b[0m         \u001b[0;32mfor\u001b[0m \u001b[0mmodule\u001b[0m \u001b[0;32min\u001b[0m \u001b[0mself\u001b[0m\u001b[0;34m:\u001b[0m\u001b[0;34m\u001b[0m\u001b[0;34m\u001b[0m\u001b[0m\n\u001b[0;32m--> 119\u001b[0;31m             \u001b[0minput\u001b[0m \u001b[0;34m=\u001b[0m \u001b[0mmodule\u001b[0m\u001b[0;34m(\u001b[0m\u001b[0minput\u001b[0m\u001b[0;34m)\u001b[0m\u001b[0;34m\u001b[0m\u001b[0;34m\u001b[0m\u001b[0m\n\u001b[0m\u001b[1;32m    120\u001b[0m         \u001b[0;32mreturn\u001b[0m \u001b[0minput\u001b[0m\u001b[0;34m\u001b[0m\u001b[0;34m\u001b[0m\u001b[0m\n\u001b[1;32m    121\u001b[0m \u001b[0;34m\u001b[0m\u001b[0m\n",
      "\u001b[0;32m~/anaconda3/envs/rppgtorch/lib/python3.7/site-packages/torch/nn/modules/module.py\u001b[0m in \u001b[0;36m_call_impl\u001b[0;34m(self, *input, **kwargs)\u001b[0m\n\u001b[1;32m    887\u001b[0m             \u001b[0mresult\u001b[0m \u001b[0;34m=\u001b[0m \u001b[0mself\u001b[0m\u001b[0;34m.\u001b[0m\u001b[0m_slow_forward\u001b[0m\u001b[0;34m(\u001b[0m\u001b[0;34m*\u001b[0m\u001b[0minput\u001b[0m\u001b[0;34m,\u001b[0m \u001b[0;34m**\u001b[0m\u001b[0mkwargs\u001b[0m\u001b[0;34m)\u001b[0m\u001b[0;34m\u001b[0m\u001b[0;34m\u001b[0m\u001b[0m\n\u001b[1;32m    888\u001b[0m         \u001b[0;32melse\u001b[0m\u001b[0;34m:\u001b[0m\u001b[0;34m\u001b[0m\u001b[0;34m\u001b[0m\u001b[0m\n\u001b[0;32m--> 889\u001b[0;31m             \u001b[0mresult\u001b[0m \u001b[0;34m=\u001b[0m \u001b[0mself\u001b[0m\u001b[0;34m.\u001b[0m\u001b[0mforward\u001b[0m\u001b[0;34m(\u001b[0m\u001b[0;34m*\u001b[0m\u001b[0minput\u001b[0m\u001b[0;34m,\u001b[0m \u001b[0;34m**\u001b[0m\u001b[0mkwargs\u001b[0m\u001b[0;34m)\u001b[0m\u001b[0;34m\u001b[0m\u001b[0;34m\u001b[0m\u001b[0m\n\u001b[0m\u001b[1;32m    890\u001b[0m         for hook in itertools.chain(\n\u001b[1;32m    891\u001b[0m                 \u001b[0m_global_forward_hooks\u001b[0m\u001b[0;34m.\u001b[0m\u001b[0mvalues\u001b[0m\u001b[0;34m(\u001b[0m\u001b[0;34m)\u001b[0m\u001b[0;34m,\u001b[0m\u001b[0;34m\u001b[0m\u001b[0;34m\u001b[0m\u001b[0m\n",
      "\u001b[0;32m~/anaconda3/envs/rppgtorch/lib/python3.7/site-packages/torch/nn/modules/container.py\u001b[0m in \u001b[0;36mforward\u001b[0;34m(self, input)\u001b[0m\n\u001b[1;32m    117\u001b[0m     \u001b[0;32mdef\u001b[0m \u001b[0mforward\u001b[0m\u001b[0;34m(\u001b[0m\u001b[0mself\u001b[0m\u001b[0;34m,\u001b[0m \u001b[0minput\u001b[0m\u001b[0;34m)\u001b[0m\u001b[0;34m:\u001b[0m\u001b[0;34m\u001b[0m\u001b[0;34m\u001b[0m\u001b[0m\n\u001b[1;32m    118\u001b[0m         \u001b[0;32mfor\u001b[0m \u001b[0mmodule\u001b[0m \u001b[0;32min\u001b[0m \u001b[0mself\u001b[0m\u001b[0;34m:\u001b[0m\u001b[0;34m\u001b[0m\u001b[0;34m\u001b[0m\u001b[0m\n\u001b[0;32m--> 119\u001b[0;31m             \u001b[0minput\u001b[0m \u001b[0;34m=\u001b[0m \u001b[0mmodule\u001b[0m\u001b[0;34m(\u001b[0m\u001b[0minput\u001b[0m\u001b[0;34m)\u001b[0m\u001b[0;34m\u001b[0m\u001b[0;34m\u001b[0m\u001b[0m\n\u001b[0m\u001b[1;32m    120\u001b[0m         \u001b[0;32mreturn\u001b[0m \u001b[0minput\u001b[0m\u001b[0;34m\u001b[0m\u001b[0;34m\u001b[0m\u001b[0m\n\u001b[1;32m    121\u001b[0m \u001b[0;34m\u001b[0m\u001b[0m\n",
      "\u001b[0;32m~/anaconda3/envs/rppgtorch/lib/python3.7/site-packages/torch/nn/modules/module.py\u001b[0m in \u001b[0;36m_call_impl\u001b[0;34m(self, *input, **kwargs)\u001b[0m\n\u001b[1;32m    887\u001b[0m             \u001b[0mresult\u001b[0m \u001b[0;34m=\u001b[0m \u001b[0mself\u001b[0m\u001b[0;34m.\u001b[0m\u001b[0m_slow_forward\u001b[0m\u001b[0;34m(\u001b[0m\u001b[0;34m*\u001b[0m\u001b[0minput\u001b[0m\u001b[0;34m,\u001b[0m \u001b[0;34m**\u001b[0m\u001b[0mkwargs\u001b[0m\u001b[0;34m)\u001b[0m\u001b[0;34m\u001b[0m\u001b[0;34m\u001b[0m\u001b[0m\n\u001b[1;32m    888\u001b[0m         \u001b[0;32melse\u001b[0m\u001b[0;34m:\u001b[0m\u001b[0;34m\u001b[0m\u001b[0;34m\u001b[0m\u001b[0m\n\u001b[0;32m--> 889\u001b[0;31m             \u001b[0mresult\u001b[0m \u001b[0;34m=\u001b[0m \u001b[0mself\u001b[0m\u001b[0;34m.\u001b[0m\u001b[0mforward\u001b[0m\u001b[0;34m(\u001b[0m\u001b[0;34m*\u001b[0m\u001b[0minput\u001b[0m\u001b[0;34m,\u001b[0m \u001b[0;34m**\u001b[0m\u001b[0mkwargs\u001b[0m\u001b[0;34m)\u001b[0m\u001b[0;34m\u001b[0m\u001b[0;34m\u001b[0m\u001b[0m\n\u001b[0m\u001b[1;32m    890\u001b[0m         for hook in itertools.chain(\n\u001b[1;32m    891\u001b[0m                 \u001b[0m_global_forward_hooks\u001b[0m\u001b[0;34m.\u001b[0m\u001b[0mvalues\u001b[0m\u001b[0;34m(\u001b[0m\u001b[0;34m)\u001b[0m\u001b[0;34m,\u001b[0m\u001b[0;34m\u001b[0m\u001b[0;34m\u001b[0m\u001b[0m\n",
      "\u001b[0;32m~/anaconda3/envs/rppgtorch/lib/python3.7/site-packages/torch/nn/modules/conv.py\u001b[0m in \u001b[0;36mforward\u001b[0;34m(self, input)\u001b[0m\n\u001b[1;32m    519\u001b[0m                             self.dilation, self.groups)\n\u001b[1;32m    520\u001b[0m         return F.conv3d(input, self.weight, self.bias, self.stride,\n\u001b[0;32m--> 521\u001b[0;31m                         self.padding, self.dilation, self.groups)\n\u001b[0m\u001b[1;32m    522\u001b[0m \u001b[0;34m\u001b[0m\u001b[0m\n\u001b[1;32m    523\u001b[0m \u001b[0;34m\u001b[0m\u001b[0m\n",
      "\u001b[0;31mRuntimeError\u001b[0m: Expected tensor for argument #1 'input' to have the same device as tensor for argument #2 'weight'; but device 0 does not equal 1 (while checking arguments for cudnn_convolution)"
     ]
    }
   ],
   "source": [
    "model3 = nn.Sequential(model._modules)\n",
    "output = model3(videos[:2])\n",
    "output.shape"
   ]
  },
  {
   "cell_type": "code",
   "execution_count": 59,
   "id": "8cfbbf47",
   "metadata": {},
   "outputs": [
    {
     "data": {
      "text/plain": [
       "torch.Size([2, 64, 8, 8, 8])"
      ]
     },
     "execution_count": 59,
     "metadata": {},
     "output_type": "execute_result"
    }
   ],
   "source": [
    "output = model2(videos[:2])\n",
    "output.shape"
   ]
  },
  {
   "cell_type": "code",
   "execution_count": 61,
   "id": "36090a4a",
   "metadata": {},
   "outputs": [
    {
     "data": {
      "text/plain": [
       "torch.Size([32, 32])"
      ]
     },
     "execution_count": 61,
     "metadata": {},
     "output_type": "execute_result"
    }
   ],
   "source": [
    "targets.shape"
   ]
  },
  {
   "cell_type": "markdown",
   "id": "d61b18dd",
   "metadata": {},
   "source": [
    "## 새로 intermediate까지만 잘라서 만든 모델과 원래 모델의 weight가 같음을 비교"
   ]
  },
  {
   "cell_type": "code",
   "execution_count": 92,
   "id": "4d16d766",
   "metadata": {},
   "outputs": [
    {
     "data": {
      "text/plain": [
       "Parameter containing:\n",
       "tensor([[[[[ 1.1170e-01, -1.0185e-01, -3.7801e-02, -3.0368e-02,  9.9623e-02],\n",
       "           [ 7.9924e-02,  8.7121e-02, -4.5142e-02, -6.7819e-03, -1.1263e-01],\n",
       "           [-4.3391e-02, -4.3082e-02, -1.1236e-01,  7.7422e-03, -1.0851e-01],\n",
       "           [ 8.4645e-02,  3.4432e-02,  5.7707e-02, -2.7472e-02, -1.0305e-01],\n",
       "           [ 5.3895e-02,  1.1404e-01, -9.0173e-02, -5.9601e-02, -4.9683e-03]]],\n",
       "\n",
       "\n",
       "         [[[-1.5307e-02,  4.9154e-02, -7.5848e-03,  8.8282e-02, -4.5205e-02],\n",
       "           [ 3.1297e-02, -3.3680e-02, -1.0099e-01, -5.7649e-02, -5.3909e-02],\n",
       "           [ 5.2862e-02,  4.4811e-02,  2.9655e-02,  6.5812e-02, -1.0326e-01],\n",
       "           [ 9.0073e-02,  1.0810e-01, -1.1537e-01,  6.6733e-02,  8.4546e-03],\n",
       "           [-7.9090e-02, -5.4057e-02,  7.4986e-02, -5.6194e-02, -8.8540e-02]]],\n",
       "\n",
       "\n",
       "         [[[ 4.0820e-02,  1.1078e-01,  9.3464e-02, -9.0325e-02, -6.1319e-02],\n",
       "           [-8.2835e-03, -7.2220e-03, -7.9017e-02, -1.8941e-03,  1.1214e-01],\n",
       "           [ 1.1356e-01,  1.0963e-01,  5.0432e-02, -1.0740e-01, -6.0722e-02],\n",
       "           [-2.0297e-02, -6.4658e-02, -6.6869e-02, -5.1597e-02, -8.8428e-02],\n",
       "           [ 8.3334e-02,  5.1839e-02,  7.4217e-02, -1.1141e-02,  6.6438e-02]]]],\n",
       "\n",
       "\n",
       "\n",
       "        [[[[-9.8129e-02,  5.6155e-02,  5.9659e-02,  2.7099e-02, -1.8287e-02],\n",
       "           [ 5.3608e-02, -7.7504e-02, -3.6980e-02,  1.0827e-01, -6.2185e-02],\n",
       "           [ 8.5510e-02, -1.1085e-01,  7.9895e-02, -3.7695e-02, -7.4267e-02],\n",
       "           [-1.1671e-03, -1.8602e-02,  1.5480e-02, -8.1022e-02, -8.8854e-02],\n",
       "           [ 7.2609e-02, -1.8026e-03, -4.4336e-02, -4.4786e-02, -1.1105e-02]]],\n",
       "\n",
       "\n",
       "         [[[ 9.4302e-02, -5.9999e-02, -3.7160e-02,  5.3657e-02,  2.3929e-02],\n",
       "           [ 4.8922e-03, -6.7541e-03, -5.9771e-03, -1.7249e-02,  2.2610e-02],\n",
       "           [ 4.8323e-02, -7.0418e-02,  1.1471e-01,  7.0235e-02, -1.1109e-02],\n",
       "           [-8.4814e-02, -1.0408e-02,  1.0088e-01, -4.8370e-02,  4.7413e-02],\n",
       "           [ 2.3067e-02,  4.0989e-02, -5.0430e-02, -3.6994e-02,  1.0149e-01]]],\n",
       "\n",
       "\n",
       "         [[[ 3.7944e-03,  1.1150e-01,  6.1890e-02, -3.9379e-02,  4.3024e-02],\n",
       "           [-3.1015e-02,  8.1063e-02,  8.0924e-02,  4.1311e-02,  5.2310e-02],\n",
       "           [ 2.7058e-02, -5.7554e-03, -2.7721e-02, -8.9754e-02, -4.9289e-02],\n",
       "           [ 1.0809e-01, -1.2585e-02, -7.8143e-02, -6.6435e-02, -9.3847e-03],\n",
       "           [-5.1312e-02,  7.1078e-02, -3.4052e-02, -7.2124e-02,  3.5771e-02]]]],\n",
       "\n",
       "\n",
       "\n",
       "        [[[[-7.7070e-02,  7.0931e-02, -1.1203e-01,  7.2716e-03,  8.5758e-02],\n",
       "           [ 1.8705e-02, -8.2489e-02, -6.7668e-02, -5.3536e-03,  5.6900e-02],\n",
       "           [-8.5250e-02, -1.0205e-01, -1.9136e-02, -9.7768e-03, -1.0864e-01],\n",
       "           [-1.1052e-02,  7.0347e-02, -5.9977e-03,  1.2317e-02, -9.3233e-02],\n",
       "           [ 5.4088e-02,  3.9898e-02,  5.3583e-02, -9.3546e-02,  5.4195e-02]]],\n",
       "\n",
       "\n",
       "         [[[-3.9778e-02, -1.4082e-02,  1.0186e-02, -8.2383e-02, -4.9326e-02],\n",
       "           [-6.4732e-02, -1.9692e-02,  7.9838e-02,  6.8634e-02, -8.0927e-02],\n",
       "           [-4.5510e-02,  4.1652e-02,  3.7837e-02,  2.9641e-02, -1.1111e-01],\n",
       "           [ 8.3906e-02,  3.0920e-02, -1.0021e-01, -8.3924e-02, -8.2266e-02],\n",
       "           [-8.8331e-02,  1.2363e-03,  8.4433e-02,  4.8288e-02,  5.6071e-02]]],\n",
       "\n",
       "\n",
       "         [[[ 1.0616e-01,  9.9197e-02, -1.0628e-03,  1.1735e-02,  7.3798e-02],\n",
       "           [ 1.0854e-01,  8.2952e-02,  7.3274e-02,  3.7018e-02, -4.9002e-02],\n",
       "           [-3.9087e-02, -9.7315e-03,  2.9602e-02, -4.1212e-02,  4.6944e-02],\n",
       "           [-5.3434e-02,  1.1466e-01, -3.5004e-02, -7.9917e-02, -4.4977e-02],\n",
       "           [-2.1437e-02,  4.5760e-02, -3.7071e-02, -1.1542e-01,  8.3481e-02]]]],\n",
       "\n",
       "\n",
       "\n",
       "        ...,\n",
       "\n",
       "\n",
       "\n",
       "        [[[[ 1.0065e-02,  6.7868e-02, -7.3283e-02, -3.1349e-02, -2.5278e-02],\n",
       "           [-1.1233e-01,  1.1237e-01, -2.5772e-02, -1.1101e-01,  1.0307e-01],\n",
       "           [-5.4842e-02, -1.0811e-01,  3.5402e-03, -1.0778e-02, -8.0012e-02],\n",
       "           [-6.7640e-02,  6.6296e-03,  5.0458e-02,  7.1943e-03, -7.0068e-02],\n",
       "           [ 6.0570e-02, -2.0779e-02, -7.8936e-02, -1.9369e-02, -4.6309e-02]]],\n",
       "\n",
       "\n",
       "         [[[-3.7211e-02, -2.6976e-03, -9.3246e-02,  8.0765e-02,  1.0646e-01],\n",
       "           [ 1.0293e-01,  2.8774e-02, -3.8322e-02,  4.2794e-04,  7.1419e-02],\n",
       "           [-3.2053e-02, -4.0599e-02, -2.6827e-02, -1.0661e-01,  8.5366e-02],\n",
       "           [ 8.7491e-02,  4.8107e-02,  4.7994e-02, -5.3248e-02,  7.9121e-02],\n",
       "           [-7.6354e-03, -7.2880e-02, -1.0128e-01, -8.8099e-02,  1.0102e-01]]],\n",
       "\n",
       "\n",
       "         [[[-9.7812e-02, -1.2424e-04, -3.2506e-02, -4.1170e-03,  2.8845e-02],\n",
       "           [-1.0814e-01,  9.1499e-02, -5.4643e-02,  6.2877e-02,  5.2674e-02],\n",
       "           [-8.2926e-02, -1.0520e-01,  1.3112e-02, -1.3510e-02,  6.4501e-02],\n",
       "           [ 4.0257e-02,  4.6462e-03,  1.1779e-02, -5.9080e-02,  1.3705e-02],\n",
       "           [-4.4347e-03, -4.7877e-02,  4.5998e-02, -9.5090e-03,  1.0887e-01]]]],\n",
       "\n",
       "\n",
       "\n",
       "        [[[[-5.3663e-02,  6.5748e-02,  7.9414e-02,  8.8640e-02, -5.9788e-02],\n",
       "           [ 3.7300e-02,  3.7401e-02, -6.4735e-02, -5.8350e-02, -9.9471e-02],\n",
       "           [ 8.3430e-02, -2.2135e-02, -7.8972e-02,  5.5783e-03,  1.0012e-01],\n",
       "           [-3.5120e-02, -5.7706e-02, -4.7975e-02, -1.1543e-02,  2.4413e-02],\n",
       "           [ 9.7685e-02,  4.5716e-03, -7.1680e-02,  1.1037e-01,  3.9262e-02]]],\n",
       "\n",
       "\n",
       "         [[[ 5.7418e-02, -8.9608e-02, -8.6865e-02,  7.6472e-03,  2.4536e-02],\n",
       "           [ 1.1265e-01, -9.7404e-02,  1.0522e-01, -6.6247e-03, -3.7425e-02],\n",
       "           [-6.2724e-02,  1.0286e-01, -5.9040e-02, -3.8033e-02, -4.8727e-02],\n",
       "           [ 4.0786e-02,  7.8059e-02, -1.0394e-01,  4.3448e-02, -6.9172e-02],\n",
       "           [-8.1877e-02,  1.0538e-01,  1.1480e-01, -9.6566e-02,  2.9584e-02]]],\n",
       "\n",
       "\n",
       "         [[[-1.1122e-01, -3.1795e-02,  6.6344e-02,  5.6082e-03, -8.2963e-02],\n",
       "           [-7.5212e-02,  1.0583e-01,  5.5885e-03, -7.8047e-02,  2.0342e-02],\n",
       "           [-7.1502e-02, -1.0099e-01,  3.4920e-02, -6.5689e-03, -1.3019e-02],\n",
       "           [ 7.8961e-02,  1.1049e-01,  1.0631e-01, -4.5650e-03,  3.1268e-02],\n",
       "           [ 4.5697e-02, -5.0525e-02, -1.0426e-01, -1.7658e-02, -7.7949e-02]]]],\n",
       "\n",
       "\n",
       "\n",
       "        [[[[ 8.1515e-02, -1.0318e-01, -4.0023e-02,  3.1380e-02,  7.8896e-02],\n",
       "           [-6.9257e-03,  1.5436e-02, -2.8485e-02, -1.0345e-01, -6.2261e-02],\n",
       "           [-1.6716e-02,  7.4316e-02,  7.2178e-02, -5.7571e-02, -9.1199e-02],\n",
       "           [-7.5999e-02,  6.1922e-02,  4.5821e-02, -3.7833e-02, -4.2321e-02],\n",
       "           [ 8.9363e-03,  1.0842e-01, -1.6965e-02, -1.8927e-02, -5.9420e-02]]],\n",
       "\n",
       "\n",
       "         [[[ 9.6691e-02,  7.8901e-02, -1.0286e-01, -3.1401e-02,  7.7943e-02],\n",
       "           [-9.1776e-03,  1.0294e-02, -6.3611e-02,  4.7127e-02,  8.1753e-02],\n",
       "           [-7.2503e-02,  6.4268e-02, -1.0018e-02,  5.6065e-02,  9.8873e-02],\n",
       "           [-1.0096e-01,  6.7397e-03, -3.3559e-02,  3.5366e-02, -8.0803e-02],\n",
       "           [ 5.9669e-03, -4.6007e-02,  2.9346e-03,  7.9195e-02,  1.9536e-02]]],\n",
       "\n",
       "\n",
       "         [[[ 9.9574e-02, -1.2334e-02,  8.1601e-02,  9.0119e-03,  5.5081e-02],\n",
       "           [ 8.3407e-02,  8.4851e-02, -1.9755e-02,  1.7671e-02, -3.9725e-02],\n",
       "           [ 4.6058e-02,  1.0474e-01,  1.2829e-02, -3.8184e-02, -8.5399e-02],\n",
       "           [ 4.4860e-02,  8.0801e-05,  4.6006e-02,  6.2727e-02,  4.2005e-02],\n",
       "           [-8.4344e-02,  1.0008e-01,  1.2653e-02, -4.1278e-02,  8.2599e-02]]]]],\n",
       "       device='cuda:0', requires_grad=True)"
      ]
     },
     "execution_count": 92,
     "metadata": {},
     "output_type": "execute_result"
    }
   ],
   "source": [
    "model2.net.start[0].weight"
   ]
  },
  {
   "cell_type": "code",
   "execution_count": 93,
   "id": "e09da176",
   "metadata": {},
   "outputs": [
    {
     "data": {
      "text/plain": [
       "Parameter containing:\n",
       "tensor([[[[[ 1.1170e-01, -1.0185e-01, -3.7801e-02, -3.0368e-02,  9.9623e-02],\n",
       "           [ 7.9924e-02,  8.7121e-02, -4.5142e-02, -6.7819e-03, -1.1263e-01],\n",
       "           [-4.3391e-02, -4.3082e-02, -1.1236e-01,  7.7422e-03, -1.0851e-01],\n",
       "           [ 8.4645e-02,  3.4432e-02,  5.7707e-02, -2.7472e-02, -1.0305e-01],\n",
       "           [ 5.3895e-02,  1.1404e-01, -9.0173e-02, -5.9601e-02, -4.9683e-03]]],\n",
       "\n",
       "\n",
       "         [[[-1.5307e-02,  4.9154e-02, -7.5848e-03,  8.8282e-02, -4.5205e-02],\n",
       "           [ 3.1297e-02, -3.3680e-02, -1.0099e-01, -5.7649e-02, -5.3909e-02],\n",
       "           [ 5.2862e-02,  4.4811e-02,  2.9655e-02,  6.5812e-02, -1.0326e-01],\n",
       "           [ 9.0073e-02,  1.0810e-01, -1.1537e-01,  6.6733e-02,  8.4546e-03],\n",
       "           [-7.9090e-02, -5.4057e-02,  7.4986e-02, -5.6194e-02, -8.8540e-02]]],\n",
       "\n",
       "\n",
       "         [[[ 4.0820e-02,  1.1078e-01,  9.3464e-02, -9.0325e-02, -6.1319e-02],\n",
       "           [-8.2835e-03, -7.2220e-03, -7.9017e-02, -1.8941e-03,  1.1214e-01],\n",
       "           [ 1.1356e-01,  1.0963e-01,  5.0432e-02, -1.0740e-01, -6.0722e-02],\n",
       "           [-2.0297e-02, -6.4658e-02, -6.6869e-02, -5.1597e-02, -8.8428e-02],\n",
       "           [ 8.3334e-02,  5.1839e-02,  7.4217e-02, -1.1141e-02,  6.6438e-02]]]],\n",
       "\n",
       "\n",
       "\n",
       "        [[[[-9.8129e-02,  5.6155e-02,  5.9659e-02,  2.7099e-02, -1.8287e-02],\n",
       "           [ 5.3608e-02, -7.7504e-02, -3.6980e-02,  1.0827e-01, -6.2185e-02],\n",
       "           [ 8.5510e-02, -1.1085e-01,  7.9895e-02, -3.7695e-02, -7.4267e-02],\n",
       "           [-1.1671e-03, -1.8602e-02,  1.5480e-02, -8.1022e-02, -8.8854e-02],\n",
       "           [ 7.2609e-02, -1.8026e-03, -4.4336e-02, -4.4786e-02, -1.1105e-02]]],\n",
       "\n",
       "\n",
       "         [[[ 9.4302e-02, -5.9999e-02, -3.7160e-02,  5.3657e-02,  2.3929e-02],\n",
       "           [ 4.8922e-03, -6.7541e-03, -5.9771e-03, -1.7249e-02,  2.2610e-02],\n",
       "           [ 4.8323e-02, -7.0418e-02,  1.1471e-01,  7.0235e-02, -1.1109e-02],\n",
       "           [-8.4814e-02, -1.0408e-02,  1.0088e-01, -4.8370e-02,  4.7413e-02],\n",
       "           [ 2.3067e-02,  4.0989e-02, -5.0430e-02, -3.6994e-02,  1.0149e-01]]],\n",
       "\n",
       "\n",
       "         [[[ 3.7944e-03,  1.1150e-01,  6.1890e-02, -3.9379e-02,  4.3024e-02],\n",
       "           [-3.1015e-02,  8.1063e-02,  8.0924e-02,  4.1311e-02,  5.2310e-02],\n",
       "           [ 2.7058e-02, -5.7554e-03, -2.7721e-02, -8.9754e-02, -4.9289e-02],\n",
       "           [ 1.0809e-01, -1.2585e-02, -7.8143e-02, -6.6435e-02, -9.3847e-03],\n",
       "           [-5.1312e-02,  7.1078e-02, -3.4052e-02, -7.2124e-02,  3.5771e-02]]]],\n",
       "\n",
       "\n",
       "\n",
       "        [[[[-7.7070e-02,  7.0931e-02, -1.1203e-01,  7.2716e-03,  8.5758e-02],\n",
       "           [ 1.8705e-02, -8.2489e-02, -6.7668e-02, -5.3536e-03,  5.6900e-02],\n",
       "           [-8.5250e-02, -1.0205e-01, -1.9136e-02, -9.7768e-03, -1.0864e-01],\n",
       "           [-1.1052e-02,  7.0347e-02, -5.9977e-03,  1.2317e-02, -9.3233e-02],\n",
       "           [ 5.4088e-02,  3.9898e-02,  5.3583e-02, -9.3546e-02,  5.4195e-02]]],\n",
       "\n",
       "\n",
       "         [[[-3.9778e-02, -1.4082e-02,  1.0186e-02, -8.2383e-02, -4.9326e-02],\n",
       "           [-6.4732e-02, -1.9692e-02,  7.9838e-02,  6.8634e-02, -8.0927e-02],\n",
       "           [-4.5510e-02,  4.1652e-02,  3.7837e-02,  2.9641e-02, -1.1111e-01],\n",
       "           [ 8.3906e-02,  3.0920e-02, -1.0021e-01, -8.3924e-02, -8.2266e-02],\n",
       "           [-8.8331e-02,  1.2363e-03,  8.4433e-02,  4.8288e-02,  5.6071e-02]]],\n",
       "\n",
       "\n",
       "         [[[ 1.0616e-01,  9.9197e-02, -1.0628e-03,  1.1735e-02,  7.3798e-02],\n",
       "           [ 1.0854e-01,  8.2952e-02,  7.3274e-02,  3.7018e-02, -4.9002e-02],\n",
       "           [-3.9087e-02, -9.7315e-03,  2.9602e-02, -4.1212e-02,  4.6944e-02],\n",
       "           [-5.3434e-02,  1.1466e-01, -3.5004e-02, -7.9917e-02, -4.4977e-02],\n",
       "           [-2.1437e-02,  4.5760e-02, -3.7071e-02, -1.1542e-01,  8.3481e-02]]]],\n",
       "\n",
       "\n",
       "\n",
       "        ...,\n",
       "\n",
       "\n",
       "\n",
       "        [[[[ 1.0065e-02,  6.7868e-02, -7.3283e-02, -3.1349e-02, -2.5278e-02],\n",
       "           [-1.1233e-01,  1.1237e-01, -2.5772e-02, -1.1101e-01,  1.0307e-01],\n",
       "           [-5.4842e-02, -1.0811e-01,  3.5402e-03, -1.0778e-02, -8.0012e-02],\n",
       "           [-6.7640e-02,  6.6296e-03,  5.0458e-02,  7.1943e-03, -7.0068e-02],\n",
       "           [ 6.0570e-02, -2.0779e-02, -7.8936e-02, -1.9369e-02, -4.6309e-02]]],\n",
       "\n",
       "\n",
       "         [[[-3.7211e-02, -2.6976e-03, -9.3246e-02,  8.0765e-02,  1.0646e-01],\n",
       "           [ 1.0293e-01,  2.8774e-02, -3.8322e-02,  4.2794e-04,  7.1419e-02],\n",
       "           [-3.2053e-02, -4.0599e-02, -2.6827e-02, -1.0661e-01,  8.5366e-02],\n",
       "           [ 8.7491e-02,  4.8107e-02,  4.7994e-02, -5.3248e-02,  7.9121e-02],\n",
       "           [-7.6354e-03, -7.2880e-02, -1.0128e-01, -8.8099e-02,  1.0102e-01]]],\n",
       "\n",
       "\n",
       "         [[[-9.7812e-02, -1.2424e-04, -3.2506e-02, -4.1170e-03,  2.8845e-02],\n",
       "           [-1.0814e-01,  9.1499e-02, -5.4643e-02,  6.2877e-02,  5.2674e-02],\n",
       "           [-8.2926e-02, -1.0520e-01,  1.3112e-02, -1.3510e-02,  6.4501e-02],\n",
       "           [ 4.0257e-02,  4.6462e-03,  1.1779e-02, -5.9080e-02,  1.3705e-02],\n",
       "           [-4.4347e-03, -4.7877e-02,  4.5998e-02, -9.5090e-03,  1.0887e-01]]]],\n",
       "\n",
       "\n",
       "\n",
       "        [[[[-5.3663e-02,  6.5748e-02,  7.9414e-02,  8.8640e-02, -5.9788e-02],\n",
       "           [ 3.7300e-02,  3.7401e-02, -6.4735e-02, -5.8350e-02, -9.9471e-02],\n",
       "           [ 8.3430e-02, -2.2135e-02, -7.8972e-02,  5.5783e-03,  1.0012e-01],\n",
       "           [-3.5120e-02, -5.7706e-02, -4.7975e-02, -1.1543e-02,  2.4413e-02],\n",
       "           [ 9.7685e-02,  4.5716e-03, -7.1680e-02,  1.1037e-01,  3.9262e-02]]],\n",
       "\n",
       "\n",
       "         [[[ 5.7418e-02, -8.9608e-02, -8.6865e-02,  7.6472e-03,  2.4536e-02],\n",
       "           [ 1.1265e-01, -9.7404e-02,  1.0522e-01, -6.6247e-03, -3.7425e-02],\n",
       "           [-6.2724e-02,  1.0286e-01, -5.9040e-02, -3.8033e-02, -4.8727e-02],\n",
       "           [ 4.0786e-02,  7.8059e-02, -1.0394e-01,  4.3448e-02, -6.9172e-02],\n",
       "           [-8.1877e-02,  1.0538e-01,  1.1480e-01, -9.6566e-02,  2.9584e-02]]],\n",
       "\n",
       "\n",
       "         [[[-1.1122e-01, -3.1795e-02,  6.6344e-02,  5.6082e-03, -8.2963e-02],\n",
       "           [-7.5212e-02,  1.0583e-01,  5.5885e-03, -7.8047e-02,  2.0342e-02],\n",
       "           [-7.1502e-02, -1.0099e-01,  3.4920e-02, -6.5689e-03, -1.3019e-02],\n",
       "           [ 7.8961e-02,  1.1049e-01,  1.0631e-01, -4.5650e-03,  3.1268e-02],\n",
       "           [ 4.5697e-02, -5.0525e-02, -1.0426e-01, -1.7658e-02, -7.7949e-02]]]],\n",
       "\n",
       "\n",
       "\n",
       "        [[[[ 8.1515e-02, -1.0318e-01, -4.0023e-02,  3.1380e-02,  7.8896e-02],\n",
       "           [-6.9257e-03,  1.5436e-02, -2.8485e-02, -1.0345e-01, -6.2261e-02],\n",
       "           [-1.6716e-02,  7.4316e-02,  7.2178e-02, -5.7571e-02, -9.1199e-02],\n",
       "           [-7.5999e-02,  6.1922e-02,  4.5821e-02, -3.7833e-02, -4.2321e-02],\n",
       "           [ 8.9363e-03,  1.0842e-01, -1.6965e-02, -1.8927e-02, -5.9420e-02]]],\n",
       "\n",
       "\n",
       "         [[[ 9.6691e-02,  7.8901e-02, -1.0286e-01, -3.1401e-02,  7.7943e-02],\n",
       "           [-9.1776e-03,  1.0294e-02, -6.3611e-02,  4.7127e-02,  8.1753e-02],\n",
       "           [-7.2503e-02,  6.4268e-02, -1.0018e-02,  5.6065e-02,  9.8873e-02],\n",
       "           [-1.0096e-01,  6.7397e-03, -3.3559e-02,  3.5366e-02, -8.0803e-02],\n",
       "           [ 5.9669e-03, -4.6007e-02,  2.9346e-03,  7.9195e-02,  1.9536e-02]]],\n",
       "\n",
       "\n",
       "         [[[ 9.9574e-02, -1.2334e-02,  8.1601e-02,  9.0119e-03,  5.5081e-02],\n",
       "           [ 8.3407e-02,  8.4851e-02, -1.9755e-02,  1.7671e-02, -3.9725e-02],\n",
       "           [ 4.6058e-02,  1.0474e-01,  1.2829e-02, -3.8184e-02, -8.5399e-02],\n",
       "           [ 4.4860e-02,  8.0801e-05,  4.6006e-02,  6.2727e-02,  4.2005e-02],\n",
       "           [-8.4344e-02,  1.0008e-01,  1.2653e-02, -4.1278e-02,  8.2599e-02]]]]],\n",
       "       device='cuda:0', requires_grad=True)"
      ]
     },
     "execution_count": 93,
     "metadata": {},
     "output_type": "execute_result"
    }
   ],
   "source": [
    "pretrained.start[0].weight"
   ]
  },
  {
   "cell_type": "code",
   "execution_count": null,
   "id": "986a0ac4",
   "metadata": {},
   "outputs": [],
   "source": []
  },
  {
   "cell_type": "code",
   "execution_count": null,
   "id": "5e3d1b0e",
   "metadata": {},
   "outputs": [],
   "source": []
  },
  {
   "cell_type": "markdown",
   "id": "890cead0",
   "metadata": {},
   "source": [
    "## 아래 코드의 출처\n",
    "https://medium.com/the-owl/extracting-features-from-an-intermediate-layer-of-a-pretrained-model-in-pytorch-c00589bda32b"
   ]
  },
  {
   "cell_type": "code",
   "execution_count": null,
   "id": "c899e6fa",
   "metadata": {},
   "outputs": [],
   "source": [
    "class new_model(nn.Module):\n",
    "    def __init__(self,output_layer = None):\n",
    "        super().__init__()\n",
    "        self.pretrained = model\n",
    "        self.output_layer = output_layer\n",
    "        self.layers = list(self.pretrained._modules.keys())\n",
    "        self.layer_count = 0\n",
    "        for l in self.layers:\n",
    "            if l != self.output_layer:\n",
    "                self.layer_count += 1\n",
    "            else:\n",
    "                break\n",
    "        for i in range(1,len(self.layers)-self.layer_count):\n",
    "            self.dummy_var = self.pretrained._modules.pop(self.layers[-i])\n",
    "        \n",
    "        self.net = nn.Sequential(self.pretrained._modules)\n",
    "        self.pretrained = None\n",
    "\n",
    "    def forward(self,x):\n",
    "        x = self.net(x)\n",
    "        return x"
   ]
  }
 ],
 "metadata": {
  "kernelspec": {
   "display_name": "Python 3",
   "language": "python",
   "name": "python3"
  },
  "language_info": {
   "codemirror_mode": {
    "name": "ipython",
    "version": 3
   },
   "file_extension": ".py",
   "mimetype": "text/x-python",
   "name": "python",
   "nbconvert_exporter": "python",
   "pygments_lexer": "ipython3",
   "version": "3.7.10"
  }
 },
 "nbformat": 4,
 "nbformat_minor": 5
}
